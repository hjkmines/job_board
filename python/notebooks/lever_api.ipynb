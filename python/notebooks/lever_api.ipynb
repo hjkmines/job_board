{
  "cells": [
    {
      "cell_type": "code",
      "execution_count": 3,
      "metadata": {
        "id": "pDc44_V90cFc"
      },
      "outputs": [],
      "source": [
        "import pandas as pd\n",
        "import requests\n",
        "import json\n",
        "import html\n",
        "import datetime\n",
        "import csv\n",
        "import re\n"
      ]
    },
    {
      "cell_type": "code",
      "execution_count": 4,
      "metadata": {
        "colab": {
          "base_uri": "https://localhost:8080/",
          "height": 1000
        },
        "id": "4GRvz5vQcA2j",
        "outputId": "5969361e-fce6-412c-ea08-15a1eeb19928"
      },
      "outputs": [
        {
          "data": {
            "text/html": [
              "<div>\n",
              "<style scoped>\n",
              "    .dataframe tbody tr th:only-of-type {\n",
              "        vertical-align: middle;\n",
              "    }\n",
              "\n",
              "    .dataframe tbody tr th {\n",
              "        vertical-align: top;\n",
              "    }\n",
              "\n",
              "    .dataframe thead th {\n",
              "        text-align: right;\n",
              "    }\n",
              "</style>\n",
              "<table border=\"1\" class=\"dataframe\">\n",
              "  <thead>\n",
              "    <tr style=\"text-align: right;\">\n",
              "      <th></th>\n",
              "      <th>Company</th>\n",
              "      <th>Token</th>\n",
              "    </tr>\n",
              "  </thead>\n",
              "  <tbody>\n",
              "    <tr>\n",
              "      <th>0</th>\n",
              "      <td>Anduril Industries</td>\n",
              "      <td>anduril</td>\n",
              "    </tr>\n",
              "    <tr>\n",
              "      <th>1</th>\n",
              "      <td>Angle Health</td>\n",
              "      <td>AngleHealth</td>\n",
              "    </tr>\n",
              "    <tr>\n",
              "      <th>2</th>\n",
              "      <td>Anyscale</td>\n",
              "      <td>anyscale</td>\n",
              "    </tr>\n",
              "    <tr>\n",
              "      <th>3</th>\n",
              "      <td>Ascend.io</td>\n",
              "      <td>ascend.io</td>\n",
              "    </tr>\n",
              "    <tr>\n",
              "      <th>4</th>\n",
              "      <td>Asics</td>\n",
              "      <td>?asics?</td>\n",
              "    </tr>\n",
              "    <tr>\n",
              "      <th>...</th>\n",
              "      <td>...</td>\n",
              "      <td>...</td>\n",
              "    </tr>\n",
              "    <tr>\n",
              "      <th>57</th>\n",
              "      <td>Up&amp;Up</td>\n",
              "      <td>Up&amp;Up</td>\n",
              "    </tr>\n",
              "    <tr>\n",
              "      <th>58</th>\n",
              "      <td>Veeva</td>\n",
              "      <td>veeva</td>\n",
              "    </tr>\n",
              "    <tr>\n",
              "      <th>59</th>\n",
              "      <td>Xage Security</td>\n",
              "      <td>xage-security</td>\n",
              "    </tr>\n",
              "    <tr>\n",
              "      <th>60</th>\n",
              "      <td>YugabyteDB</td>\n",
              "      <td>yugabyte</td>\n",
              "    </tr>\n",
              "    <tr>\n",
              "      <th>61</th>\n",
              "      <td>Zoox</td>\n",
              "      <td>zoox</td>\n",
              "    </tr>\n",
              "  </tbody>\n",
              "</table>\n",
              "<p>62 rows × 2 columns</p>\n",
              "</div>"
            ],
            "text/plain": [
              "               Company          Token\n",
              "0   Anduril Industries        anduril\n",
              "1         Angle Health    AngleHealth\n",
              "2             Anyscale       anyscale\n",
              "3            Ascend.io      ascend.io\n",
              "4                Asics        ?asics?\n",
              "..                 ...            ...\n",
              "57               Up&Up          Up&Up\n",
              "58               Veeva          veeva\n",
              "59       Xage Security  xage-security\n",
              "60          YugabyteDB       yugabyte\n",
              "61                Zoox           zoox\n",
              "\n",
              "[62 rows x 2 columns]"
            ]
          },
          "execution_count": 4,
          "metadata": {},
          "output_type": "execute_result"
        }
      ],
      "source": [
        "companies_df = pd.read_csv('../lever_companies.csv')\n",
        "companies_df\n"
      ]
    },
    {
      "cell_type": "code",
      "execution_count": 5,
      "metadata": {
        "colab": {
          "base_uri": "https://localhost:8080/"
        },
        "id": "bQ8Ys7_VeyQF",
        "outputId": "9c45df27-ef22-4183-944f-1f6c4dc625d8"
      },
      "outputs": [
        {
          "data": {
            "text/plain": [
              "{'anduril': 'Anduril Industries',\n",
              " 'AngleHealth': 'Angle Health',\n",
              " 'anyscale': 'Anyscale',\n",
              " 'ascend.io': 'Ascend.io',\n",
              " '?asics?': 'Asics',\n",
              " ' atlassian': 'Atlassian',\n",
              " 'aurorasolar': 'Aurora Solar',\n",
              " 'automox': 'Automox',\n",
              " 'axoni': 'Axoni',\n",
              " '?belvedereTrading?': 'Belvedere Trading',\n",
              " 'bluebottlecoffee': 'Blue Bottle Coffee',\n",
              " 'bodyport': 'Bodyport',\n",
              " 'boomandbucket': 'Boom & Bucket',\n",
              " '?butcherbox?': 'Butcher Box',\n",
              " '?captiv8?': 'Captiv8',\n",
              " 'cellares': 'Cellares',\n",
              " 'cohere': 'Cohere',\n",
              " 'confluent': 'Confluent',\n",
              " 'credinvestments': 'CRED Investments',\n",
              " 'eargo': 'Eargo',\n",
              " ' facta': 'Facta',\n",
              " 'goforward': 'Forward',\n",
              " 'front': 'Front',\n",
              " 'getlabs': 'Getlabs',\n",
              " 'gopuff': 'Gopuff',\n",
              " '?greenthumbindustries?': 'Green Thumb industr.',\n",
              " 'hihello': 'HiHello',\n",
              " 'hive': 'Hive',\n",
              " 'learnwithjuni': 'Juni Learning',\n",
              " 'leolabs-2': 'LeoLabs',\n",
              " 'logrocket': 'LogRocket',\n",
              " 'MachinaLabs': 'Machina Labs',\n",
              " 'nava': 'Nava',\n",
              " 'neeva': 'Neeva',\n",
              " 'netflix': 'Netflix',\n",
              " 'nexient': 'Nexient',\n",
              " 'observeinc': 'Observe',\n",
              " 'openbb': 'OpenBB',\n",
              " 'OpenSea': 'OpenSea',\n",
              " 'orum': 'Orum',\n",
              " 'ottertune': 'OtterTune',\n",
              " '?perpay?': 'Perpay',\n",
              " 'picktrace': 'PickTrace',\n",
              " 'plaid': 'Plaid',\n",
              " 'Pomelo': 'Pomelo',\n",
              " 'roboflow': 'Roboflow',\n",
              " 'secureframe': 'secureframe',\n",
              " 'Sherpa': 'Sherpa',\n",
              " 'sporty': 'Sporty Group',\n",
              " 'spotify ': 'Spotify',\n",
              " 'starburst': 'Starburst',\n",
              " ' sure': 'Sure',\n",
              " 'talyn': 'Talyn Air',\n",
              " 'tegus': 'Tegus',\n",
              " 'terminus': 'Terminus',\n",
              " ' translifeline': 'TransLifeline',\n",
              " 'torch': 'Torch',\n",
              " ' Up&Up': 'Up&Up',\n",
              " 'veeva': 'Veeva',\n",
              " 'xage-security': 'Xage Security',\n",
              " 'yugabyte': 'YugabyteDB',\n",
              " 'zoox': 'Zoox'}"
            ]
          },
          "execution_count": 5,
          "metadata": {},
          "output_type": "execute_result"
        }
      ],
      "source": [
        "companies_dict = {}\n",
        "for _ , row in companies_df.iterrows():\n",
        "  companies_dict[row['Token']] = row['Company']\n",
        "\n",
        "\n",
        "companies_dict\n"
      ]
    },
    {
      "cell_type": "code",
      "execution_count": 6,
      "metadata": {
        "id": "1Gti0n2HfTZY"
      },
      "outputs": [],
      "source": [
        "tokens = set(companies_df.Token)\n",
        "companies_clean = companies_dict\n",
        "companies_bad = {}"
      ]
    },
    {
      "cell_type": "code",
      "execution_count": 7,
      "metadata": {
        "colab": {
          "base_uri": "https://localhost:8080/"
        },
        "id": "pkTOhodff6jC",
        "outputId": "f5e1f357-07a5-46a8-ddf8-238214ef558d"
      },
      "outputs": [
        {
          "data": {
            "text/plain": [
              "62"
            ]
          },
          "execution_count": 7,
          "metadata": {},
          "output_type": "execute_result"
        }
      ],
      "source": [
        "len(companies_dict.keys())"
      ]
    },
    {
      "cell_type": "code",
      "execution_count": 8,
      "metadata": {
        "colab": {
          "base_uri": "https://localhost:8080/"
        },
        "id": "XBu959FndPuB",
        "outputId": "2225cda5-26e0-4258-9686-2a85c416f465"
      },
      "outputs": [
        {
          "name": "stdout",
          "output_type": "stream",
          "text": [
            "API call for ?asics? failed\n",
            "API call for ?belvedereTrading? failed\n",
            "API call for ?captiv8? failed\n",
            "API call for ?perpay? failed\n",
            "API call for  sure failed\n",
            "API call for  facta failed\n",
            "API call for ?butcherbox? failed\n",
            "API call for  Up&Up failed\n",
            "API call for  translifeline failed\n",
            "API call for ?greenthumbindustries? failed\n",
            "API call for starburst failed\n",
            "API call for spotify  failed\n",
            "API call for boomandbucket failed\n",
            "API call for front failed\n",
            "API call for  atlassian failed\n"
          ]
        }
      ],
      "source": [
        "for token in tokens:\n",
        "    if not requests.get(f'https://jobs.lever.co/v0/postings/{token}?mode=json'):\n",
        "      print(f'API call for {token} failed')\n",
        "      companies_bad[token] = companies_dict.get(token)\n",
        "      companies_clean.pop(token)"
      ]
    },
    {
      "cell_type": "code",
      "execution_count": 7,
      "metadata": {
        "colab": {
          "base_uri": "https://localhost:8080/"
        },
        "id": "GxPVEXdHfoE1",
        "outputId": "07ec7612-4c7d-4905-b6e1-e41d9ec35f94"
      },
      "outputs": [
        {
          "data": {
            "text/plain": [
              "{'?sure?': 'Sure',\n",
              " 'boomandbucket': 'Boom & Bucket',\n",
              " '?starbust?': 'Starbusrt',\n",
              " 'front': 'Front',\n",
              " '?butcherbox?': 'Butcher Box',\n",
              " '?asics?': 'Asics',\n",
              " '?atlassian?': 'Atlassian',\n",
              " '?Up&Up?': 'Up&Up',\n",
              " '?captiv8?': 'Captiv8',\n",
              " '?facta?': 'Facta',\n",
              " '?belvedereTrading?': 'Belvedere Trading',\n",
              " '?translifeline?': 'TransLifeline',\n",
              " '?greenthumbindustries?': 'Green Thumb industr.',\n",
              " '?spotify? ': 'Spotify',\n",
              " '?perpay?': 'Perpay'}"
            ]
          },
          "execution_count": 7,
          "metadata": {},
          "output_type": "execute_result"
        }
      ],
      "source": [
        "companies_bad"
      ]
    },
    {
      "cell_type": "code",
      "execution_count": 8,
      "metadata": {
        "id": "YKULfqEEgkga"
      },
      "outputs": [],
      "source": [
        "roles = {'developer','engineer', 'data', 'engineering', 'frontend', 'software', 'apprentice', 'analyst' , 'quality', 'apprenticeship', 'front-end', 'backend', 'back-end', 'jr.', 'jr' }\n",
        "# Includes 'software' for titles that are just 'software enginer', etc.\n",
        "levels = {'junior', 'entry-level', 'grad', 'graduate', 'data', 'apprentice', 'apprenticeship', 'software', 'qa', 'quality', 'test', 'entry', 'intern', 'i', '1', 'associate', 'co-op'}\n",
        "# Optional, but helps exclude higher level postiions\n",
        "exclude = {'senior', 'principal' , 'sr.', 'sr' 'ii', 'iii', 'director' }\n",
        "\n"
      ]
    },
    {
      "cell_type": "code",
      "execution_count": 9,
      "metadata": {
        "colab": {
          "base_uri": "https://localhost:8080/"
        },
        "id": "2v7bVH_TgyAO",
        "outputId": "d15ce067-b60e-4f20-eee7-86dcc4be5551"
      },
      "outputs": [
        {
          "data": {
            "text/plain": [
              "dict_keys(['additionalPlain', 'additional', 'categories', 'createdAt', 'descriptionPlain', 'description', 'id', 'lists', 'text', 'country', 'workplaceType', 'hostedUrl', 'applyUrl'])"
            ]
          },
          "execution_count": 9,
          "metadata": {},
          "output_type": "execute_result"
        }
      ],
      "source": [
        "res=requests.get(f'https://jobs.lever.co/v0/postings/tegus?mode=json')\n",
        "jobs=json.loads(res.text)\n",
        "job = jobs[0]\n",
        "\n",
        "job.keys()"
      ]
    },
    {
      "cell_type": "code",
      "execution_count": 10,
      "metadata": {
        "colab": {
          "base_uri": "https://localhost:8080/"
        },
        "id": "vKgtY-PCjV04",
        "outputId": "1784624b-ec3c-40e8-ede0-6c90cf7ab121"
      },
      "outputs": [
        {
          "data": {
            "text/plain": [
              "{'commitment': 'Full-Time',\n",
              " 'department': 'Operations',\n",
              " 'location': 'Chicago, IL',\n",
              " 'team': 'Operations'}"
            ]
          },
          "execution_count": 10,
          "metadata": {},
          "output_type": "execute_result"
        }
      ],
      "source": [
        "job['categories']"
      ]
    },
    {
      "cell_type": "code",
      "execution_count": 11,
      "metadata": {
        "colab": {
          "base_uri": "https://localhost:8080/"
        },
        "id": "FA3QeycLiowq",
        "outputId": "0f7bb09b-9f9e-418a-8ff3-dadc8dd8a013"
      },
      "outputs": [
        {
          "name": "stdout",
          "output_type": "stream",
          "text": [
            "2020-12-10T18:18:24.613000\n"
          ]
        }
      ],
      "source": [
        "print(datetime.datetime.fromtimestamp(job.get('createdAt')/1000.).isoformat())\n"
      ]
    },
    {
      "cell_type": "code",
      "execution_count": 12,
      "metadata": {
        "id": "gi23_7mDiCCE"
      },
      "outputs": [
        {
          "ename": "NameError",
          "evalue": "name 'roles' is not defined",
          "output_type": "error",
          "traceback": [
            "\u001b[1;31m---------------------------------------------------------------------------\u001b[0m",
            "\u001b[1;31mNameError\u001b[0m                                 Traceback (most recent call last)",
            "Cell \u001b[1;32mIn[12], line 13\u001b[0m\n\u001b[0;32m     10\u001b[0m \u001b[39mfor\u001b[39;00m job \u001b[39min\u001b[39;00m jobs:\n\u001b[0;32m     11\u001b[0m   title \u001b[39m=\u001b[39m \u001b[39mset\u001b[39m(job\u001b[39m.\u001b[39mget(\u001b[39m'\u001b[39m\u001b[39mtext\u001b[39m\u001b[39m'\u001b[39m)\u001b[39m.\u001b[39mlower()\u001b[39m.\u001b[39msplit())\n\u001b[1;32m---> 13\u001b[0m   \u001b[39mif\u001b[39;00m title\u001b[39m.\u001b[39mintersection(roles) \u001b[39mand\u001b[39;00m title\u001b[39m.\u001b[39mintersection(levels) \u001b[39mand\u001b[39;00m \u001b[39mnot\u001b[39;00m title\u001b[39m.\u001b[39mintersection(exclude):\n\u001b[0;32m     14\u001b[0m     job_info \u001b[39m=\u001b[39m {\u001b[39m'\u001b[39m\u001b[39mtitle\u001b[39m\u001b[39m'\u001b[39m: job\u001b[39m.\u001b[39mget(\u001b[39m'\u001b[39m\u001b[39mtext\u001b[39m\u001b[39m'\u001b[39m), \u001b[39m'\u001b[39m\u001b[39mcompany\u001b[39m\u001b[39m'\u001b[39m : company, \u001b[39m'\u001b[39m\u001b[39mdescription\u001b[39m\u001b[39m'\u001b[39m: job\u001b[39m.\u001b[39mget(\u001b[39m'\u001b[39m\u001b[39mdescriptionPlain\u001b[39m\u001b[39m'\u001b[39m),\n\u001b[0;32m     15\u001b[0m               \u001b[39m'\u001b[39m\u001b[39mlink\u001b[39m\u001b[39m'\u001b[39m : job\u001b[39m.\u001b[39mget(\u001b[39m'\u001b[39m\u001b[39mapplyUrl\u001b[39m\u001b[39m'\u001b[39m), \u001b[39m'\u001b[39m\u001b[39mremote\u001b[39m\u001b[39m'\u001b[39m : \u001b[39mTrue\u001b[39;00m \u001b[39mif\u001b[39;00m job\u001b[39m.\u001b[39mget(\u001b[39m'\u001b[39m\u001b[39mworkplaceType\u001b[39m\u001b[39m'\u001b[39m)\u001b[39m.\u001b[39mlower() \u001b[39m==\u001b[39m \u001b[39m'\u001b[39m\u001b[39mremote\u001b[39m\u001b[39m'\u001b[39m \u001b[39melse\u001b[39;00m \u001b[39mFalse\u001b[39;00m, \u001b[39m'\u001b[39m\u001b[39mlocation\u001b[39m\u001b[39m'\u001b[39m : job\u001b[39m.\u001b[39mget(\u001b[39m'\u001b[39m\u001b[39mcategories\u001b[39m\u001b[39m'\u001b[39m)\u001b[39m.\u001b[39mget(\u001b[39m'\u001b[39m\u001b[39mlocation\u001b[39m\u001b[39m'\u001b[39m) ,  \u001b[39m'\u001b[39m\u001b[39mdate_posted\u001b[39m\u001b[39m'\u001b[39m: datetime\u001b[39m.\u001b[39mdatetime\u001b[39m.\u001b[39mfromtimestamp(job\u001b[39m.\u001b[39mget(\u001b[39m'\u001b[39m\u001b[39mcreatedAt\u001b[39m\u001b[39m'\u001b[39m)\u001b[39m/\u001b[39m\u001b[39m1000.\u001b[39m)\u001b[39m.\u001b[39misoformat()} \n\u001b[0;32m     17\u001b[0m     results\u001b[39m.\u001b[39mappend(job_info)\n",
            "\u001b[1;31mNameError\u001b[0m: name 'roles' is not defined"
          ]
        }
      ],
      "source": [
        "results = []\n",
        "\n",
        "for token in tokens:\n",
        "  res=requests.get(f'https://jobs.lever.co/v0/postings/{token}?mode=json')\n",
        "  if res:\n",
        "    jobs=json.loads(res.text)\n",
        "\n",
        "  company= companies_clean.get(token)\n",
        "\n",
        "  for job in jobs:\n",
        "    title = set(job.get('text').lower().split())\n",
        "\n",
        "    if title.intersection(roles) and title.intersection(levels) and not title.intersection(exclude):\n",
        "      job_info = {'title': job.get('text'), 'company' : company, 'description': job.get('descriptionPlain'),\n",
        "                'link' : job.get('applyUrl'), 'remote' : True if job.get('workplaceType').lower() == 'remote' else False, 'location' : job.get('categories').get('location') ,  'date_posted': datetime.datetime.fromtimestamp(job.get('createdAt')/1000.).isoformat()} \n",
        "      \n",
        "      results.append(job_info)\n",
        "\n"
      ]
    },
    {
      "cell_type": "code",
      "execution_count": 13,
      "metadata": {
        "colab": {
          "base_uri": "https://localhost:8080/",
          "height": 423
        },
        "id": "XWcvoR8lmy1H",
        "outputId": "7ceb6c7c-faae-4b6a-89e1-ca979634e6c0"
      },
      "outputs": [
        {
          "data": {
            "text/html": [
              "<div>\n",
              "<style scoped>\n",
              "    .dataframe tbody tr th:only-of-type {\n",
              "        vertical-align: middle;\n",
              "    }\n",
              "\n",
              "    .dataframe tbody tr th {\n",
              "        vertical-align: top;\n",
              "    }\n",
              "\n",
              "    .dataframe thead th {\n",
              "        text-align: right;\n",
              "    }\n",
              "</style>\n",
              "<table border=\"1\" class=\"dataframe\">\n",
              "  <thead>\n",
              "    <tr style=\"text-align: right;\">\n",
              "      <th></th>\n",
              "      <th>title</th>\n",
              "      <th>company</th>\n",
              "      <th>description</th>\n",
              "      <th>link</th>\n",
              "      <th>remote</th>\n",
              "      <th>location</th>\n",
              "      <th>date_posted</th>\n",
              "    </tr>\n",
              "  </thead>\n",
              "  <tbody>\n",
              "    <tr>\n",
              "      <th>0</th>\n",
              "      <td>Data Engineer</td>\n",
              "      <td>Angle Health</td>\n",
              "      <td>Changing Healthcare For Good\\nAt Angle Health,...</td>\n",
              "      <td>https://jobs.lever.co/AngleHealth/44c7ba3b-aa0...</td>\n",
              "      <td>True</td>\n",
              "      <td>Remote</td>\n",
              "      <td>2023-02-14T00:41:59.947000</td>\n",
              "    </tr>\n",
              "    <tr>\n",
              "      <th>1</th>\n",
              "      <td>Deployed Software Engineer</td>\n",
              "      <td>Angle Health</td>\n",
              "      <td>Changing Healthcare For Good\\nAt Angle Health,...</td>\n",
              "      <td>https://jobs.lever.co/AngleHealth/cb485eee-945...</td>\n",
              "      <td>True</td>\n",
              "      <td>Remote</td>\n",
              "      <td>2023-01-12T15:14:16.702000</td>\n",
              "    </tr>\n",
              "    <tr>\n",
              "      <th>2</th>\n",
              "      <td>Software Engineer, Backend</td>\n",
              "      <td>Angle Health</td>\n",
              "      <td>Changing Healthcare For Good\\nAt Angle Health,...</td>\n",
              "      <td>https://jobs.lever.co/AngleHealth/2bbcdb54-548...</td>\n",
              "      <td>True</td>\n",
              "      <td>Remote</td>\n",
              "      <td>2021-11-23T15:44:01.367000</td>\n",
              "    </tr>\n",
              "    <tr>\n",
              "      <th>3</th>\n",
              "      <td>Software Engineer, Full Stack</td>\n",
              "      <td>Angle Health</td>\n",
              "      <td>Changing Healthcare For Good\\nAt Angle Health,...</td>\n",
              "      <td>https://jobs.lever.co/AngleHealth/04b36f5f-a1c...</td>\n",
              "      <td>True</td>\n",
              "      <td>Remote</td>\n",
              "      <td>2023-02-14T00:50:36.865000</td>\n",
              "    </tr>\n",
              "    <tr>\n",
              "      <th>4</th>\n",
              "      <td>Software Engineer, Strategy</td>\n",
              "      <td>Angle Health</td>\n",
              "      <td>Changing Healthcare For Good\\nAt Angle Health,...</td>\n",
              "      <td>https://jobs.lever.co/AngleHealth/b2d736ea-adc...</td>\n",
              "      <td>True</td>\n",
              "      <td>Remote</td>\n",
              "      <td>2023-02-14T21:16:18.955000</td>\n",
              "    </tr>\n",
              "    <tr>\n",
              "      <th>...</th>\n",
              "      <td>...</td>\n",
              "      <td>...</td>\n",
              "      <td>...</td>\n",
              "      <td>...</td>\n",
              "      <td>...</td>\n",
              "      <td>...</td>\n",
              "      <td>...</td>\n",
              "    </tr>\n",
              "    <tr>\n",
              "      <th>874</th>\n",
              "      <td>Test Automation Engineer - Networking</td>\n",
              "      <td>Zoox</td>\n",
              "      <td>As a test automation engineer in networking, y...</td>\n",
              "      <td>https://jobs.lever.co/zoox/48f45666-cde1-4599-...</td>\n",
              "      <td>False</td>\n",
              "      <td>Foster City, CA</td>\n",
              "      <td>2023-01-03T22:34:35.424000</td>\n",
              "    </tr>\n",
              "    <tr>\n",
              "      <th>875</th>\n",
              "      <td>Test Infrastructure Engineer</td>\n",
              "      <td>Zoox</td>\n",
              "      <td>Zoox is looking for a talented Test Infrastruc...</td>\n",
              "      <td>https://jobs.lever.co/zoox/6d3248d6-b4bd-4d73-...</td>\n",
              "      <td>False</td>\n",
              "      <td>San Carlos, CA</td>\n",
              "      <td>2022-04-28T15:59:44.862000</td>\n",
              "    </tr>\n",
              "    <tr>\n",
              "      <th>876</th>\n",
              "      <td>Software Engineer, Computational Scientist</td>\n",
              "      <td>Aurora Solar</td>\n",
              "      <td>About the role:\\n\\nAurora Solar is a fast-grow...</td>\n",
              "      <td>https://jobs.lever.co/aurorasolar/62e5ad48-559...</td>\n",
              "      <td>True</td>\n",
              "      <td>Canada</td>\n",
              "      <td>2022-09-01T17:31:01.840000</td>\n",
              "    </tr>\n",
              "    <tr>\n",
              "      <th>877</th>\n",
              "      <td>Software Engineer, Data and GIS</td>\n",
              "      <td>Aurora Solar</td>\n",
              "      <td>About the role:\\n\\nAurora Solar is a fast-grow...</td>\n",
              "      <td>https://jobs.lever.co/aurorasolar/025beacf-d90...</td>\n",
              "      <td>True</td>\n",
              "      <td>Canada</td>\n",
              "      <td>2021-01-27T19:28:52.028000</td>\n",
              "    </tr>\n",
              "    <tr>\n",
              "      <th>878</th>\n",
              "      <td>Software Engineer, Full Stack</td>\n",
              "      <td>Aurora Solar</td>\n",
              "      <td>About the role:\\n\\nAurora Solar is a fast-grow...</td>\n",
              "      <td>https://jobs.lever.co/aurorasolar/96cb45da-0f1...</td>\n",
              "      <td>True</td>\n",
              "      <td>Canada</td>\n",
              "      <td>2022-04-19T17:58:22.638000</td>\n",
              "    </tr>\n",
              "  </tbody>\n",
              "</table>\n",
              "<p>879 rows × 7 columns</p>\n",
              "</div>"
            ],
            "text/plain": [
              "                                          title       company  \\\n",
              "0                                 Data Engineer  Angle Health   \n",
              "1                    Deployed Software Engineer  Angle Health   \n",
              "2                    Software Engineer, Backend  Angle Health   \n",
              "3                 Software Engineer, Full Stack  Angle Health   \n",
              "4                   Software Engineer, Strategy  Angle Health   \n",
              "..                                          ...           ...   \n",
              "874       Test Automation Engineer - Networking          Zoox   \n",
              "875                Test Infrastructure Engineer          Zoox   \n",
              "876  Software Engineer, Computational Scientist  Aurora Solar   \n",
              "877             Software Engineer, Data and GIS  Aurora Solar   \n",
              "878               Software Engineer, Full Stack  Aurora Solar   \n",
              "\n",
              "                                           description  \\\n",
              "0    Changing Healthcare For Good\\nAt Angle Health,...   \n",
              "1    Changing Healthcare For Good\\nAt Angle Health,...   \n",
              "2    Changing Healthcare For Good\\nAt Angle Health,...   \n",
              "3    Changing Healthcare For Good\\nAt Angle Health,...   \n",
              "4    Changing Healthcare For Good\\nAt Angle Health,...   \n",
              "..                                                 ...   \n",
              "874  As a test automation engineer in networking, y...   \n",
              "875  Zoox is looking for a talented Test Infrastruc...   \n",
              "876  About the role:\\n\\nAurora Solar is a fast-grow...   \n",
              "877  About the role:\\n\\nAurora Solar is a fast-grow...   \n",
              "878  About the role:\\n\\nAurora Solar is a fast-grow...   \n",
              "\n",
              "                                                  link  remote  \\\n",
              "0    https://jobs.lever.co/AngleHealth/44c7ba3b-aa0...    True   \n",
              "1    https://jobs.lever.co/AngleHealth/cb485eee-945...    True   \n",
              "2    https://jobs.lever.co/AngleHealth/2bbcdb54-548...    True   \n",
              "3    https://jobs.lever.co/AngleHealth/04b36f5f-a1c...    True   \n",
              "4    https://jobs.lever.co/AngleHealth/b2d736ea-adc...    True   \n",
              "..                                                 ...     ...   \n",
              "874  https://jobs.lever.co/zoox/48f45666-cde1-4599-...   False   \n",
              "875  https://jobs.lever.co/zoox/6d3248d6-b4bd-4d73-...   False   \n",
              "876  https://jobs.lever.co/aurorasolar/62e5ad48-559...    True   \n",
              "877  https://jobs.lever.co/aurorasolar/025beacf-d90...    True   \n",
              "878  https://jobs.lever.co/aurorasolar/96cb45da-0f1...    True   \n",
              "\n",
              "            location                 date_posted  \n",
              "0             Remote  2023-02-14T00:41:59.947000  \n",
              "1             Remote  2023-01-12T15:14:16.702000  \n",
              "2             Remote  2021-11-23T15:44:01.367000  \n",
              "3             Remote  2023-02-14T00:50:36.865000  \n",
              "4             Remote  2023-02-14T21:16:18.955000  \n",
              "..               ...                         ...  \n",
              "874  Foster City, CA  2023-01-03T22:34:35.424000  \n",
              "875   San Carlos, CA  2022-04-28T15:59:44.862000  \n",
              "876           Canada  2022-09-01T17:31:01.840000  \n",
              "877           Canada  2021-01-27T19:28:52.028000  \n",
              "878           Canada  2022-04-19T17:58:22.638000  \n",
              "\n",
              "[879 rows x 7 columns]"
            ]
          },
          "execution_count": 13,
          "metadata": {},
          "output_type": "execute_result"
        }
      ],
      "source": [
        "df = pd.DataFrame()\n",
        "df = df.from_records(results)\n",
        "df"
      ]
    },
    {
      "cell_type": "code",
      "execution_count": 14,
      "metadata": {
        "colab": {
          "base_uri": "https://localhost:8080/",
          "height": 423
        },
        "id": "oAXXXiJEqIVn",
        "outputId": "062902ca-77d2-46ca-99e3-81c85cf56bda"
      },
      "outputs": [
        {
          "data": {
            "text/html": [
              "<div>\n",
              "<style scoped>\n",
              "    .dataframe tbody tr th:only-of-type {\n",
              "        vertical-align: middle;\n",
              "    }\n",
              "\n",
              "    .dataframe tbody tr th {\n",
              "        vertical-align: top;\n",
              "    }\n",
              "\n",
              "    .dataframe thead th {\n",
              "        text-align: right;\n",
              "    }\n",
              "</style>\n",
              "<table border=\"1\" class=\"dataframe\">\n",
              "  <thead>\n",
              "    <tr style=\"text-align: right;\">\n",
              "      <th></th>\n",
              "      <th>title</th>\n",
              "      <th>company</th>\n",
              "      <th>description</th>\n",
              "      <th>link</th>\n",
              "      <th>remote</th>\n",
              "      <th>location</th>\n",
              "      <th>date_posted</th>\n",
              "    </tr>\n",
              "  </thead>\n",
              "  <tbody>\n",
              "    <tr>\n",
              "      <th>552</th>\n",
              "      <td>Software Engineers</td>\n",
              "      <td>OtterTune</td>\n",
              "      <td>Job Location:\\n201 S Craig Street, Suite 2E\\nP...</td>\n",
              "      <td>https://jobs.lever.co/ottertune/d8ed61a5-f486-...</td>\n",
              "      <td>True</td>\n",
              "      <td>Pittsburgh, PA</td>\n",
              "      <td>2023-05-03T11:54:37.754000</td>\n",
              "    </tr>\n",
              "    <tr>\n",
              "      <th>614</th>\n",
              "      <td>Software Engineer - Data Systems</td>\n",
              "      <td>Anduril Industries</td>\n",
              "      <td>Anduril Industries is a defense technology com...</td>\n",
              "      <td>https://jobs.lever.co/anduril/5b3dd311-1db1-49...</td>\n",
              "      <td>False</td>\n",
              "      <td>Seattle, WA</td>\n",
              "      <td>2023-05-01T17:20:22.145000</td>\n",
              "    </tr>\n",
              "    <tr>\n",
              "      <th>702</th>\n",
              "      <td>Software Engineer - Data Systems</td>\n",
              "      <td>None</td>\n",
              "      <td>Anduril Industries is a defense technology com...</td>\n",
              "      <td>https://jobs.lever.co/anduril/5b3dd311-1db1-49...</td>\n",
              "      <td>False</td>\n",
              "      <td>Seattle, WA</td>\n",
              "      <td>2023-05-01T17:20:22.145000</td>\n",
              "    </tr>\n",
              "    <tr>\n",
              "      <th>637</th>\n",
              "      <td>Staff Software Engineer</td>\n",
              "      <td>Anduril Industries</td>\n",
              "      <td>Anduril Industries is a defense technology com...</td>\n",
              "      <td>https://jobs.lever.co/anduril/3219978b-ab6e-42...</td>\n",
              "      <td>False</td>\n",
              "      <td>Seattle, WA</td>\n",
              "      <td>2023-05-01T17:06:45.996000</td>\n",
              "    </tr>\n",
              "    <tr>\n",
              "      <th>725</th>\n",
              "      <td>Staff Software Engineer</td>\n",
              "      <td>None</td>\n",
              "      <td>Anduril Industries is a defense technology com...</td>\n",
              "      <td>https://jobs.lever.co/anduril/3219978b-ab6e-42...</td>\n",
              "      <td>False</td>\n",
              "      <td>Seattle, WA</td>\n",
              "      <td>2023-05-01T17:06:45.996000</td>\n",
              "    </tr>\n",
              "    <tr>\n",
              "      <th>...</th>\n",
              "      <td>...</td>\n",
              "      <td>...</td>\n",
              "      <td>...</td>\n",
              "      <td>...</td>\n",
              "      <td>...</td>\n",
              "      <td>...</td>\n",
              "      <td>...</td>\n",
              "    </tr>\n",
              "    <tr>\n",
              "      <th>577</th>\n",
              "      <td>Frontend Software Engineer</td>\n",
              "      <td>Anduril Industries</td>\n",
              "      <td>Anduril Industries is a defense technology com...</td>\n",
              "      <td>https://jobs.lever.co/anduril/a79b3c52-aaf8-47...</td>\n",
              "      <td>False</td>\n",
              "      <td>Costa Mesa, CA</td>\n",
              "      <td>2018-07-17T18:19:39.522000</td>\n",
              "    </tr>\n",
              "    <tr>\n",
              "      <th>873</th>\n",
              "      <td>Technical Program Manager - Software</td>\n",
              "      <td>Zoox</td>\n",
              "      <td>Zoox has embarked on a highly ambitious journe...</td>\n",
              "      <td>https://jobs.lever.co/zoox/b5b5bb0c-1f95-446e-...</td>\n",
              "      <td>False</td>\n",
              "      <td>Foster City, CA</td>\n",
              "      <td>2016-05-17T13:37:06.372000</td>\n",
              "    </tr>\n",
              "    <tr>\n",
              "      <th>799</th>\n",
              "      <td>Senior/Staff Software Engineer - Machine Learning</td>\n",
              "      <td>Zoox</td>\n",
              "      <td>At Zoox, you will collaborate with a team of w...</td>\n",
              "      <td>https://jobs.lever.co/zoox/81f7fbe7-4fd3-4814-...</td>\n",
              "      <td>False</td>\n",
              "      <td>Foster City, CA</td>\n",
              "      <td>2016-02-11T20:45:48.453000</td>\n",
              "    </tr>\n",
              "    <tr>\n",
              "      <th>832</th>\n",
              "      <td>Software Development Engineer in Test</td>\n",
              "      <td>Zoox</td>\n",
              "      <td>Autonomous vehicles have some of the largest, ...</td>\n",
              "      <td>https://jobs.lever.co/zoox/206cbbe7-f2ef-40f1-...</td>\n",
              "      <td>False</td>\n",
              "      <td>Foster City, CA</td>\n",
              "      <td>2016-02-11T17:06:53.811000</td>\n",
              "    </tr>\n",
              "    <tr>\n",
              "      <th>797</th>\n",
              "      <td>Senior/Staff Software Engineer - Localization ...</td>\n",
              "      <td>Zoox</td>\n",
              "      <td>Zoox is looking for a software engineer to hel...</td>\n",
              "      <td>https://jobs.lever.co/zoox/743cf92d-6646-4c72-...</td>\n",
              "      <td>False</td>\n",
              "      <td>Foster City, CA</td>\n",
              "      <td>2016-02-09T17:58:27.816000</td>\n",
              "    </tr>\n",
              "  </tbody>\n",
              "</table>\n",
              "<p>879 rows × 7 columns</p>\n",
              "</div>"
            ],
            "text/plain": [
              "                                                 title             company  \\\n",
              "552                                 Software Engineers           OtterTune   \n",
              "614                   Software Engineer - Data Systems  Anduril Industries   \n",
              "702                   Software Engineer - Data Systems                None   \n",
              "637                            Staff Software Engineer  Anduril Industries   \n",
              "725                            Staff Software Engineer                None   \n",
              "..                                                 ...                 ...   \n",
              "577                         Frontend Software Engineer  Anduril Industries   \n",
              "873               Technical Program Manager - Software                Zoox   \n",
              "799  Senior/Staff Software Engineer - Machine Learning                Zoox   \n",
              "832              Software Development Engineer in Test                Zoox   \n",
              "797  Senior/Staff Software Engineer - Localization ...                Zoox   \n",
              "\n",
              "                                           description  \\\n",
              "552  Job Location:\\n201 S Craig Street, Suite 2E\\nP...   \n",
              "614  Anduril Industries is a defense technology com...   \n",
              "702  Anduril Industries is a defense technology com...   \n",
              "637  Anduril Industries is a defense technology com...   \n",
              "725  Anduril Industries is a defense technology com...   \n",
              "..                                                 ...   \n",
              "577  Anduril Industries is a defense technology com...   \n",
              "873  Zoox has embarked on a highly ambitious journe...   \n",
              "799  At Zoox, you will collaborate with a team of w...   \n",
              "832  Autonomous vehicles have some of the largest, ...   \n",
              "797  Zoox is looking for a software engineer to hel...   \n",
              "\n",
              "                                                  link  remote  \\\n",
              "552  https://jobs.lever.co/ottertune/d8ed61a5-f486-...    True   \n",
              "614  https://jobs.lever.co/anduril/5b3dd311-1db1-49...   False   \n",
              "702  https://jobs.lever.co/anduril/5b3dd311-1db1-49...   False   \n",
              "637  https://jobs.lever.co/anduril/3219978b-ab6e-42...   False   \n",
              "725  https://jobs.lever.co/anduril/3219978b-ab6e-42...   False   \n",
              "..                                                 ...     ...   \n",
              "577  https://jobs.lever.co/anduril/a79b3c52-aaf8-47...   False   \n",
              "873  https://jobs.lever.co/zoox/b5b5bb0c-1f95-446e-...   False   \n",
              "799  https://jobs.lever.co/zoox/81f7fbe7-4fd3-4814-...   False   \n",
              "832  https://jobs.lever.co/zoox/206cbbe7-f2ef-40f1-...   False   \n",
              "797  https://jobs.lever.co/zoox/743cf92d-6646-4c72-...   False   \n",
              "\n",
              "            location                 date_posted  \n",
              "552   Pittsburgh, PA  2023-05-03T11:54:37.754000  \n",
              "614      Seattle, WA  2023-05-01T17:20:22.145000  \n",
              "702      Seattle, WA  2023-05-01T17:20:22.145000  \n",
              "637      Seattle, WA  2023-05-01T17:06:45.996000  \n",
              "725      Seattle, WA  2023-05-01T17:06:45.996000  \n",
              "..               ...                         ...  \n",
              "577   Costa Mesa, CA  2018-07-17T18:19:39.522000  \n",
              "873  Foster City, CA  2016-05-17T13:37:06.372000  \n",
              "799  Foster City, CA  2016-02-11T20:45:48.453000  \n",
              "832  Foster City, CA  2016-02-11T17:06:53.811000  \n",
              "797  Foster City, CA  2016-02-09T17:58:27.816000  \n",
              "\n",
              "[879 rows x 7 columns]"
            ]
          },
          "execution_count": 14,
          "metadata": {},
          "output_type": "execute_result"
        }
      ],
      "source": [
        "df.sort_values(by='date_posted', ascending=False)"
      ]
    }
  ],
  "metadata": {
    "colab": {
      "provenance": []
    },
    "kernelspec": {
      "display_name": "Python 3",
      "name": "python3"
    },
    "language_info": {
      "codemirror_mode": {
        "name": "ipython",
        "version": 3
      },
      "file_extension": ".py",
      "mimetype": "text/x-python",
      "name": "python",
      "nbconvert_exporter": "python",
      "pygments_lexer": "ipython3",
      "version": "3.11.2"
    }
  },
  "nbformat": 4,
  "nbformat_minor": 0
}
