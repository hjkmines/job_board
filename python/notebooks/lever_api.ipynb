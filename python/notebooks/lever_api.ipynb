{
  "cells": [
    {
      "cell_type": "code",
      "execution_count": 26,
      "metadata": {
        "id": "pDc44_V90cFc"
      },
      "outputs": [],
      "source": [
        "import pandas as pd\n",
        "import requests\n",
        "import json\n",
        "import html\n",
        "import datetime\n",
        "import csv\n",
        "import re\n",
        "from datetime import date"
      ]
    },
    {
      "cell_type": "code",
      "execution_count": 2,
      "metadata": {
        "colab": {
          "base_uri": "https://localhost:8080/",
          "height": 1000
        },
        "id": "4GRvz5vQcA2j",
        "outputId": "5969361e-fce6-412c-ea08-15a1eeb19928"
      },
      "outputs": [
        {
          "data": {
            "text/html": [
              "<div>\n",
              "<style scoped>\n",
              "    .dataframe tbody tr th:only-of-type {\n",
              "        vertical-align: middle;\n",
              "    }\n",
              "\n",
              "    .dataframe tbody tr th {\n",
              "        vertical-align: top;\n",
              "    }\n",
              "\n",
              "    .dataframe thead th {\n",
              "        text-align: right;\n",
              "    }\n",
              "</style>\n",
              "<table border=\"1\" class=\"dataframe\">\n",
              "  <thead>\n",
              "    <tr style=\"text-align: right;\">\n",
              "      <th></th>\n",
              "      <th>Company</th>\n",
              "      <th>Token</th>\n",
              "    </tr>\n",
              "  </thead>\n",
              "  <tbody>\n",
              "    <tr>\n",
              "      <th>0</th>\n",
              "      <td>Anduril Industries</td>\n",
              "      <td>anduril</td>\n",
              "    </tr>\n",
              "    <tr>\n",
              "      <th>1</th>\n",
              "      <td>Angle Health</td>\n",
              "      <td>AngleHealth</td>\n",
              "    </tr>\n",
              "    <tr>\n",
              "      <th>2</th>\n",
              "      <td>Anyscale</td>\n",
              "      <td>anyscale</td>\n",
              "    </tr>\n",
              "    <tr>\n",
              "      <th>3</th>\n",
              "      <td>Ascend.io</td>\n",
              "      <td>ascend.io</td>\n",
              "    </tr>\n",
              "    <tr>\n",
              "      <th>4</th>\n",
              "      <td>Asics</td>\n",
              "      <td>?asics?</td>\n",
              "    </tr>\n",
              "    <tr>\n",
              "      <th>...</th>\n",
              "      <td>...</td>\n",
              "      <td>...</td>\n",
              "    </tr>\n",
              "    <tr>\n",
              "      <th>57</th>\n",
              "      <td>Up&amp;Up</td>\n",
              "      <td>Up&amp;Up</td>\n",
              "    </tr>\n",
              "    <tr>\n",
              "      <th>58</th>\n",
              "      <td>Veeva</td>\n",
              "      <td>veeva</td>\n",
              "    </tr>\n",
              "    <tr>\n",
              "      <th>59</th>\n",
              "      <td>Xage Security</td>\n",
              "      <td>xage-security</td>\n",
              "    </tr>\n",
              "    <tr>\n",
              "      <th>60</th>\n",
              "      <td>YugabyteDB</td>\n",
              "      <td>yugabyte</td>\n",
              "    </tr>\n",
              "    <tr>\n",
              "      <th>61</th>\n",
              "      <td>Zoox</td>\n",
              "      <td>zoox</td>\n",
              "    </tr>\n",
              "  </tbody>\n",
              "</table>\n",
              "<p>62 rows × 2 columns</p>\n",
              "</div>"
            ],
            "text/plain": [
              "               Company          Token\n",
              "0   Anduril Industries        anduril\n",
              "1         Angle Health    AngleHealth\n",
              "2             Anyscale       anyscale\n",
              "3            Ascend.io      ascend.io\n",
              "4                Asics        ?asics?\n",
              "..                 ...            ...\n",
              "57               Up&Up          Up&Up\n",
              "58               Veeva          veeva\n",
              "59       Xage Security  xage-security\n",
              "60          YugabyteDB       yugabyte\n",
              "61                Zoox           zoox\n",
              "\n",
              "[62 rows x 2 columns]"
            ]
          },
          "execution_count": 2,
          "metadata": {},
          "output_type": "execute_result"
        }
      ],
      "source": [
        "companies_df = pd.read_csv('../lever_companies.csv')\n",
        "companies_df\n"
      ]
    },
    {
      "cell_type": "code",
      "execution_count": 3,
      "metadata": {
        "colab": {
          "base_uri": "https://localhost:8080/"
        },
        "id": "bQ8Ys7_VeyQF",
        "outputId": "9c45df27-ef22-4183-944f-1f6c4dc625d8"
      },
      "outputs": [
        {
          "data": {
            "text/plain": [
              "{'anduril': 'Anduril Industries',\n",
              " 'AngleHealth': 'Angle Health',\n",
              " 'anyscale': 'Anyscale',\n",
              " 'ascend.io': 'Ascend.io',\n",
              " '?asics?': 'Asics',\n",
              " 'atlassian': 'Atlassian',\n",
              " 'aurorasolar': 'Aurora Solar',\n",
              " 'automox': 'Automox',\n",
              " 'axoni': 'Axoni',\n",
              " '?belvedereTrading?': 'Belvedere Trading',\n",
              " 'bluebottlecoffee': 'Blue Bottle Coffee',\n",
              " 'bodyport': 'Bodyport',\n",
              " 'boomandbucket': 'Boom & Bucket',\n",
              " '?butcherbox?': 'Butcher Box',\n",
              " '?captiv8?': 'Captiv8',\n",
              " 'cellares': 'Cellares',\n",
              " 'cohere': 'Cohere',\n",
              " 'confluent': 'Confluent',\n",
              " 'credinvestments': 'CRED Investments',\n",
              " 'eargo': 'Eargo',\n",
              " ' facta': 'Facta',\n",
              " 'goforward': 'Forward',\n",
              " 'front': 'Front',\n",
              " 'getlabs': 'Getlabs',\n",
              " 'gopuff': 'Gopuff',\n",
              " '?greenthumbindustries?': 'Green Thumb industr.',\n",
              " 'hihello': 'HiHello',\n",
              " 'hive': 'Hive',\n",
              " 'learnwithjuni': 'Juni Learning',\n",
              " 'leolabs-2': 'LeoLabs',\n",
              " 'logrocket': 'LogRocket',\n",
              " 'MachinaLabs': 'Machina Labs',\n",
              " 'nava': 'Nava',\n",
              " 'neeva': 'Neeva',\n",
              " 'netflix': 'Netflix',\n",
              " 'nexient': 'Nexient',\n",
              " 'observeinc': 'Observe',\n",
              " 'openbb': 'OpenBB',\n",
              " 'OpenSea': 'OpenSea',\n",
              " 'orum': 'Orum',\n",
              " 'ottertune': 'OtterTune',\n",
              " '?perpay?': 'Perpay',\n",
              " 'picktrace': 'PickTrace',\n",
              " 'plaid': 'Plaid',\n",
              " 'Pomelo': 'Pomelo',\n",
              " 'roboflow': 'Roboflow',\n",
              " 'secureframe': 'secureframe',\n",
              " 'Sherpa': 'Sherpa',\n",
              " 'sporty': 'Sporty Group',\n",
              " 'spotify ': 'Spotify',\n",
              " 'starburst': 'Starburst',\n",
              " ' sure': 'Sure',\n",
              " 'talyn': 'Talyn Air',\n",
              " 'tegus': 'Tegus',\n",
              " 'terminus': 'Terminus',\n",
              " ' translifeline': 'TransLifeline',\n",
              " 'torch': 'Torch',\n",
              " ' Up&Up': 'Up&Up',\n",
              " 'veeva': 'Veeva',\n",
              " 'xage-security': 'Xage Security',\n",
              " 'yugabyte': 'YugabyteDB',\n",
              " 'zoox': 'Zoox'}"
            ]
          },
          "execution_count": 3,
          "metadata": {},
          "output_type": "execute_result"
        }
      ],
      "source": [
        "companies_dict = {}\n",
        "for _ , row in companies_df.iterrows():\n",
        "  companies_dict[row['Token']] = row['Company']\n",
        "\n",
        "\n",
        "companies_dict\n"
      ]
    },
    {
      "cell_type": "code",
      "execution_count": 4,
      "metadata": {
        "id": "1Gti0n2HfTZY"
      },
      "outputs": [],
      "source": [
        "tokens = set(companies_df.Token)\n",
        "companies_clean = companies_dict\n",
        "companies_bad = {}"
      ]
    },
    {
      "cell_type": "code",
      "execution_count": 34,
      "metadata": {},
      "outputs": [
        {
          "data": {
            "text/plain": [
              "{'?asics?',\n",
              " '?belvedereTrading?',\n",
              " '?butcherbox?',\n",
              " '?captiv8?',\n",
              " '?greenthumbindustries?',\n",
              " '?perpay?',\n",
              " 'AngleHealth',\n",
              " 'MachinaLabs',\n",
              " 'OpenSea',\n",
              " 'Pomelo',\n",
              " 'Sherpa',\n",
              " 'Up&Up',\n",
              " 'anduril',\n",
              " 'anyscale',\n",
              " 'ascend.io',\n",
              " 'atlassian',\n",
              " 'aurorasolar',\n",
              " 'automox',\n",
              " 'axoni',\n",
              " 'bluebottlecoffee',\n",
              " 'bodyport',\n",
              " 'boomandbucket',\n",
              " 'cellares',\n",
              " 'cohere',\n",
              " 'confluent',\n",
              " 'credinvestments',\n",
              " 'eargo',\n",
              " 'facta',\n",
              " 'front',\n",
              " 'getlabs',\n",
              " 'goforward',\n",
              " 'gopuff',\n",
              " 'hihello',\n",
              " 'hive',\n",
              " 'learnwithjuni',\n",
              " 'leolabs-2',\n",
              " 'logrocket',\n",
              " 'nava',\n",
              " 'neeva',\n",
              " 'netflix',\n",
              " 'nexient',\n",
              " 'observeinc',\n",
              " 'openbb',\n",
              " 'orum',\n",
              " 'ottertune',\n",
              " 'picktrace',\n",
              " 'plaid',\n",
              " 'roboflow',\n",
              " 'secureframe',\n",
              " 'sporty',\n",
              " 'spotify ',\n",
              " 'starburst',\n",
              " 'sure',\n",
              " 'talyn',\n",
              " 'tegus',\n",
              " 'terminus',\n",
              " 'torch',\n",
              " 'translifeline',\n",
              " 'veeva',\n",
              " 'xage-security',\n",
              " 'yugabyte',\n",
              " 'zoox'}"
            ]
          },
          "execution_count": 34,
          "metadata": {},
          "output_type": "execute_result"
        }
      ],
      "source": [
        "with open('../lever_companies.csv', 'r') as data:\n",
        "    companies = {row[0]: row[1] for row in csv.reader(data)}\n",
        "            \n",
        "companies_bad_lever = {}\n",
        "tokens = set(companies.keys())\n",
        "companies_clean = companies\n",
        "\n",
        "for token in tokens:\n",
        "    if not requests.get(f'https://jobs.lever.co/v0/postings/{token}?mode=json'):\n",
        "        companies_bad_lever[token] = companies.get(token)\n",
        "        companies_clean.pop(token)\n",
        "\n",
        "if companies_bad_lever:\n",
        "    with open(f\"../logs/companies_bad_lever_{date.today()}.json\", \"w\") as out:\n",
        "        json.dump(companies_bad_lever, out)\n",
        "\n",
        "tokens"
      ]
    },
    {
      "cell_type": "code",
      "execution_count": 37,
      "metadata": {
        "colab": {
          "base_uri": "https://localhost:8080/"
        },
        "id": "pkTOhodff6jC",
        "outputId": "f5e1f357-07a5-46a8-ddf8-238214ef558d"
      },
      "outputs": [
        {
          "data": {
            "text/plain": [
              "50"
            ]
          },
          "execution_count": 37,
          "metadata": {},
          "output_type": "execute_result"
        }
      ],
      "source": [
        "len(companies_clean)"
      ]
    },
    {
      "cell_type": "code",
      "execution_count": 6,
      "metadata": {
        "colab": {
          "base_uri": "https://localhost:8080/"
        },
        "id": "XBu959FndPuB",
        "outputId": "2225cda5-26e0-4258-9686-2a85c416f465"
      },
      "outputs": [
        {
          "name": "stdout",
          "output_type": "stream",
          "text": [
            "API call for ?captiv8? failed\n",
            "API call for spotify  failed\n",
            "API call for ?greenthumbindustries? failed\n",
            "API call for starburst failed\n",
            "API call for  translifeline failed\n",
            "API call for boomandbucket failed\n",
            "API call for ?perpay? failed\n",
            "API call for ?butcherbox? failed\n",
            "API call for  facta failed\n",
            "API call for  sure failed\n",
            "API call for ?belvedereTrading? failed\n",
            "API call for ?asics? failed\n",
            "API call for  Up&Up failed\n",
            "API call for front failed\n"
          ]
        }
      ],
      "source": [
        "for token in tokens:\n",
        "    if not requests.get(f'https://jobs.lever.co/v0/postings/{token}?mode=json'):\n",
        "      print(f'API call for {token} failed')\n",
        "      companies_bad[token] = companies_dict.get(token)\n",
        "      companies_clean.pop(token)"
      ]
    },
    {
      "cell_type": "code",
      "execution_count": 7,
      "metadata": {
        "colab": {
          "base_uri": "https://localhost:8080/"
        },
        "id": "GxPVEXdHfoE1",
        "outputId": "07ec7612-4c7d-4905-b6e1-e41d9ec35f94"
      },
      "outputs": [
        {
          "data": {
            "text/plain": [
              "{'?captiv8?': 'Captiv8',\n",
              " 'spotify ': 'Spotify',\n",
              " '?greenthumbindustries?': 'Green Thumb industr.',\n",
              " 'starburst': 'Starburst',\n",
              " ' translifeline': 'TransLifeline',\n",
              " 'boomandbucket': 'Boom & Bucket',\n",
              " '?perpay?': 'Perpay',\n",
              " '?butcherbox?': 'Butcher Box',\n",
              " ' facta': 'Facta',\n",
              " ' sure': 'Sure',\n",
              " '?belvedereTrading?': 'Belvedere Trading',\n",
              " '?asics?': 'Asics',\n",
              " ' Up&Up': 'Up&Up',\n",
              " 'front': 'Front'}"
            ]
          },
          "execution_count": 7,
          "metadata": {},
          "output_type": "execute_result"
        }
      ],
      "source": [
        "companies_bad"
      ]
    },
    {
      "cell_type": "code",
      "execution_count": 8,
      "metadata": {
        "id": "YKULfqEEgkga"
      },
      "outputs": [],
      "source": [
        "roles = {'developer','engineer', 'data', 'engineering', 'frontend', 'software', 'apprentice', 'analyst' , 'quality', 'apprenticeship', 'front-end', 'backend', 'back-end', 'jr.', 'jr' }\n",
        "# Includes 'software' for titles that are just 'software enginer', etc.\n",
        "levels = {'junior', 'entry-level', 'grad', 'graduate', 'data', 'apprentice', 'apprenticeship', 'software', 'qa', 'quality', 'test', 'entry', 'intern', 'i', '1', 'associate', 'co-op'}\n",
        "# Optional, but helps exclude higher level postiions\n",
        "exclude = {'senior', 'principal' , 'sr.', 'sr' 'ii', 'iii', 'director' }\n",
        "\n"
      ]
    },
    {
      "cell_type": "code",
      "execution_count": 9,
      "metadata": {
        "colab": {
          "base_uri": "https://localhost:8080/"
        },
        "id": "2v7bVH_TgyAO",
        "outputId": "d15ce067-b60e-4f20-eee7-86dcc4be5551"
      },
      "outputs": [
        {
          "data": {
            "text/plain": [
              "dict_keys(['additionalPlain', 'additional', 'categories', 'createdAt', 'descriptionPlain', 'description', 'id', 'lists', 'text', 'country', 'workplaceType', 'hostedUrl', 'applyUrl'])"
            ]
          },
          "execution_count": 9,
          "metadata": {},
          "output_type": "execute_result"
        }
      ],
      "source": [
        "res=requests.get(f'https://jobs.lever.co/v0/postings/tegus?mode=json')\n",
        "jobs=json.loads(res.text)\n",
        "job = jobs[0]\n",
        "\n",
        "job.keys()"
      ]
    },
    {
      "cell_type": "code",
      "execution_count": 10,
      "metadata": {
        "colab": {
          "base_uri": "https://localhost:8080/"
        },
        "id": "vKgtY-PCjV04",
        "outputId": "1784624b-ec3c-40e8-ede0-6c90cf7ab121"
      },
      "outputs": [
        {
          "data": {
            "text/plain": [
              "{'commitment': 'Full-Time',\n",
              " 'department': 'Operations',\n",
              " 'location': 'Chicago, IL',\n",
              " 'team': 'Operations'}"
            ]
          },
          "execution_count": 10,
          "metadata": {},
          "output_type": "execute_result"
        }
      ],
      "source": [
        "job['categories']"
      ]
    },
    {
      "cell_type": "code",
      "execution_count": 11,
      "metadata": {
        "colab": {
          "base_uri": "https://localhost:8080/"
        },
        "id": "FA3QeycLiowq",
        "outputId": "0f7bb09b-9f9e-418a-8ff3-dadc8dd8a013"
      },
      "outputs": [
        {
          "name": "stdout",
          "output_type": "stream",
          "text": [
            "2020-12-10T18:18:24.613000\n"
          ]
        }
      ],
      "source": [
        "print(datetime.datetime.fromtimestamp(job.get('createdAt')/1000.).isoformat())\n"
      ]
    },
    {
      "cell_type": "code",
      "execution_count": 21,
      "metadata": {
        "id": "gi23_7mDiCCE"
      },
      "outputs": [],
      "source": [
        "results = []\n",
        "\n",
        "for token in tokens:\n",
        "  res=requests.get(f'https://jobs.lever.co/v0/postings/{token}?mode=json')\n",
        "  if res:\n",
        "    jobs=json.loads(res.text)\n",
        "\n",
        "  company= companies_clean.get(token)\n",
        "\n",
        "  for job in jobs:\n",
        "    title = set(job.get('text').lower().split())\n",
        "\n",
        "    if title.intersection(roles) and title.intersection(levels) and not title.intersection(exclude):\n",
        "      job_info = {'title': job.get('text'), 'company' : company, 'description': job.get('descriptionPlain'),\n",
        "    'link' : job.get('applyUrl'), 'remote' : True if job.get('workplaceType').lower() == 'remote' else False, 'location' : job.get('categories').get('location') ,  'date_posted': datetime.datetime.fromtimestamp(int(str(job.get('createdAt'))[:-3])).isoformat()} \n",
        "      \n",
        "      results.append(job_info)\n",
        "\n"
      ]
    },
    {
      "cell_type": "code",
      "execution_count": 19,
      "metadata": {},
      "outputs": [
        {
          "data": {
            "text/plain": [
              "'1679440926'"
            ]
          },
          "execution_count": 19,
          "metadata": {},
          "output_type": "execute_result"
        }
      ],
      "source": [
        "str(1679440926995)[:-3]\n"
      ]
    },
    {
      "cell_type": "code",
      "execution_count": 22,
      "metadata": {
        "colab": {
          "base_uri": "https://localhost:8080/",
          "height": 423
        },
        "id": "XWcvoR8lmy1H",
        "outputId": "7ceb6c7c-faae-4b6a-89e1-ca979634e6c0"
      },
      "outputs": [
        {
          "data": {
            "text/html": [
              "<div>\n",
              "<style scoped>\n",
              "    .dataframe tbody tr th:only-of-type {\n",
              "        vertical-align: middle;\n",
              "    }\n",
              "\n",
              "    .dataframe tbody tr th {\n",
              "        vertical-align: top;\n",
              "    }\n",
              "\n",
              "    .dataframe thead th {\n",
              "        text-align: right;\n",
              "    }\n",
              "</style>\n",
              "<table border=\"1\" class=\"dataframe\">\n",
              "  <thead>\n",
              "    <tr style=\"text-align: right;\">\n",
              "      <th></th>\n",
              "      <th>title</th>\n",
              "      <th>company</th>\n",
              "      <th>description</th>\n",
              "      <th>link</th>\n",
              "      <th>remote</th>\n",
              "      <th>location</th>\n",
              "      <th>date_posted</th>\n",
              "    </tr>\n",
              "  </thead>\n",
              "  <tbody>\n",
              "    <tr>\n",
              "      <th>0</th>\n",
              "      <td>Cloud Optimization Data Analyst</td>\n",
              "      <td>None</td>\n",
              "      <td>Who are we?\\nWe’re a small, diverse team worki...</td>\n",
              "      <td>https://jobs.lever.co/cohere/91abe8c4-da02-450...</td>\n",
              "      <td>False</td>\n",
              "      <td>Toronto, Palo Alto, San Francisco</td>\n",
              "      <td>2023-03-21T19:22:06</td>\n",
              "    </tr>\n",
              "    <tr>\n",
              "      <th>1</th>\n",
              "      <td>Data Quality Specialist (Part-Time)</td>\n",
              "      <td>None</td>\n",
              "      <td>Who are we?\\nWe’re a small, diverse team worki...</td>\n",
              "      <td>https://jobs.lever.co/cohere/486e96ac-ac4f-40c...</td>\n",
              "      <td>False</td>\n",
              "      <td>Toronto</td>\n",
              "      <td>2023-01-30T13:01:09</td>\n",
              "    </tr>\n",
              "    <tr>\n",
              "      <th>2</th>\n",
              "      <td>Data Quality Specialist (Part-Time)</td>\n",
              "      <td>None</td>\n",
              "      <td>Who are we?\\nWe’re a small, diverse team worki...</td>\n",
              "      <td>https://jobs.lever.co/cohere/e461b759-d102-44f...</td>\n",
              "      <td>False</td>\n",
              "      <td>London</td>\n",
              "      <td>2023-03-16T10:17:00</td>\n",
              "    </tr>\n",
              "    <tr>\n",
              "      <th>3</th>\n",
              "      <td>Member of Technical Staff, Data Acquisition</td>\n",
              "      <td>None</td>\n",
              "      <td>Who are we?\\nWe’re a small, diverse team worki...</td>\n",
              "      <td>https://jobs.lever.co/cohere/c282d795-efe1-481...</td>\n",
              "      <td>True</td>\n",
              "      <td>Remote</td>\n",
              "      <td>2023-03-30T16:20:56</td>\n",
              "    </tr>\n",
              "    <tr>\n",
              "      <th>4</th>\n",
              "      <td>Member of Technical Staff, Data Quality</td>\n",
              "      <td>None</td>\n",
              "      <td>Who are we?\\nWe’re a small, diverse team worki...</td>\n",
              "      <td>https://jobs.lever.co/cohere/dbb767b7-3a95-4af...</td>\n",
              "      <td>True</td>\n",
              "      <td>Remote</td>\n",
              "      <td>2023-04-25T14:33:08</td>\n",
              "    </tr>\n",
              "    <tr>\n",
              "      <th>...</th>\n",
              "      <td>...</td>\n",
              "      <td>...</td>\n",
              "      <td>...</td>\n",
              "      <td>...</td>\n",
              "      <td>...</td>\n",
              "      <td>...</td>\n",
              "      <td>...</td>\n",
              "    </tr>\n",
              "    <tr>\n",
              "      <th>497</th>\n",
              "      <td>Cloud Optimization Data Analyst</td>\n",
              "      <td>Cohere</td>\n",
              "      <td>Who are we?\\nWe’re a small, diverse team worki...</td>\n",
              "      <td>https://jobs.lever.co/cohere/91abe8c4-da02-450...</td>\n",
              "      <td>False</td>\n",
              "      <td>Toronto, Palo Alto, San Francisco</td>\n",
              "      <td>2023-03-21T19:22:06</td>\n",
              "    </tr>\n",
              "    <tr>\n",
              "      <th>498</th>\n",
              "      <td>Data Quality Specialist (Part-Time)</td>\n",
              "      <td>Cohere</td>\n",
              "      <td>Who are we?\\nWe’re a small, diverse team worki...</td>\n",
              "      <td>https://jobs.lever.co/cohere/486e96ac-ac4f-40c...</td>\n",
              "      <td>False</td>\n",
              "      <td>Toronto</td>\n",
              "      <td>2023-01-30T13:01:09</td>\n",
              "    </tr>\n",
              "    <tr>\n",
              "      <th>499</th>\n",
              "      <td>Data Quality Specialist (Part-Time)</td>\n",
              "      <td>Cohere</td>\n",
              "      <td>Who are we?\\nWe’re a small, diverse team worki...</td>\n",
              "      <td>https://jobs.lever.co/cohere/e461b759-d102-44f...</td>\n",
              "      <td>False</td>\n",
              "      <td>London</td>\n",
              "      <td>2023-03-16T10:17:00</td>\n",
              "    </tr>\n",
              "    <tr>\n",
              "      <th>500</th>\n",
              "      <td>Member of Technical Staff, Data Acquisition</td>\n",
              "      <td>Cohere</td>\n",
              "      <td>Who are we?\\nWe’re a small, diverse team worki...</td>\n",
              "      <td>https://jobs.lever.co/cohere/c282d795-efe1-481...</td>\n",
              "      <td>True</td>\n",
              "      <td>Remote</td>\n",
              "      <td>2023-03-30T16:20:56</td>\n",
              "    </tr>\n",
              "    <tr>\n",
              "      <th>501</th>\n",
              "      <td>Member of Technical Staff, Data Quality</td>\n",
              "      <td>Cohere</td>\n",
              "      <td>Who are we?\\nWe’re a small, diverse team worki...</td>\n",
              "      <td>https://jobs.lever.co/cohere/dbb767b7-3a95-4af...</td>\n",
              "      <td>True</td>\n",
              "      <td>Remote</td>\n",
              "      <td>2023-04-25T14:33:08</td>\n",
              "    </tr>\n",
              "  </tbody>\n",
              "</table>\n",
              "<p>502 rows × 7 columns</p>\n",
              "</div>"
            ],
            "text/plain": [
              "                                           title company  \\\n",
              "0                Cloud Optimization Data Analyst    None   \n",
              "1            Data Quality Specialist (Part-Time)    None   \n",
              "2            Data Quality Specialist (Part-Time)    None   \n",
              "3    Member of Technical Staff, Data Acquisition    None   \n",
              "4        Member of Technical Staff, Data Quality    None   \n",
              "..                                           ...     ...   \n",
              "497              Cloud Optimization Data Analyst  Cohere   \n",
              "498          Data Quality Specialist (Part-Time)  Cohere   \n",
              "499          Data Quality Specialist (Part-Time)  Cohere   \n",
              "500  Member of Technical Staff, Data Acquisition  Cohere   \n",
              "501      Member of Technical Staff, Data Quality  Cohere   \n",
              "\n",
              "                                           description  \\\n",
              "0    Who are we?\\nWe’re a small, diverse team worki...   \n",
              "1    Who are we?\\nWe’re a small, diverse team worki...   \n",
              "2    Who are we?\\nWe’re a small, diverse team worki...   \n",
              "3    Who are we?\\nWe’re a small, diverse team worki...   \n",
              "4    Who are we?\\nWe’re a small, diverse team worki...   \n",
              "..                                                 ...   \n",
              "497  Who are we?\\nWe’re a small, diverse team worki...   \n",
              "498  Who are we?\\nWe’re a small, diverse team worki...   \n",
              "499  Who are we?\\nWe’re a small, diverse team worki...   \n",
              "500  Who are we?\\nWe’re a small, diverse team worki...   \n",
              "501  Who are we?\\nWe’re a small, diverse team worki...   \n",
              "\n",
              "                                                  link  remote  \\\n",
              "0    https://jobs.lever.co/cohere/91abe8c4-da02-450...   False   \n",
              "1    https://jobs.lever.co/cohere/486e96ac-ac4f-40c...   False   \n",
              "2    https://jobs.lever.co/cohere/e461b759-d102-44f...   False   \n",
              "3    https://jobs.lever.co/cohere/c282d795-efe1-481...    True   \n",
              "4    https://jobs.lever.co/cohere/dbb767b7-3a95-4af...    True   \n",
              "..                                                 ...     ...   \n",
              "497  https://jobs.lever.co/cohere/91abe8c4-da02-450...   False   \n",
              "498  https://jobs.lever.co/cohere/486e96ac-ac4f-40c...   False   \n",
              "499  https://jobs.lever.co/cohere/e461b759-d102-44f...   False   \n",
              "500  https://jobs.lever.co/cohere/c282d795-efe1-481...    True   \n",
              "501  https://jobs.lever.co/cohere/dbb767b7-3a95-4af...    True   \n",
              "\n",
              "                              location          date_posted  \n",
              "0    Toronto, Palo Alto, San Francisco  2023-03-21T19:22:06  \n",
              "1                              Toronto  2023-01-30T13:01:09  \n",
              "2                               London  2023-03-16T10:17:00  \n",
              "3                               Remote  2023-03-30T16:20:56  \n",
              "4                               Remote  2023-04-25T14:33:08  \n",
              "..                                 ...                  ...  \n",
              "497  Toronto, Palo Alto, San Francisco  2023-03-21T19:22:06  \n",
              "498                            Toronto  2023-01-30T13:01:09  \n",
              "499                             London  2023-03-16T10:17:00  \n",
              "500                             Remote  2023-03-30T16:20:56  \n",
              "501                             Remote  2023-04-25T14:33:08  \n",
              "\n",
              "[502 rows x 7 columns]"
            ]
          },
          "execution_count": 22,
          "metadata": {},
          "output_type": "execute_result"
        }
      ],
      "source": [
        "df = pd.DataFrame()\n",
        "df = df.from_records(results)\n",
        "df"
      ]
    },
    {
      "cell_type": "code",
      "execution_count": 14,
      "metadata": {
        "colab": {
          "base_uri": "https://localhost:8080/",
          "height": 423
        },
        "id": "oAXXXiJEqIVn",
        "outputId": "062902ca-77d2-46ca-99e3-81c85cf56bda"
      },
      "outputs": [
        {
          "data": {
            "text/html": [
              "<div>\n",
              "<style scoped>\n",
              "    .dataframe tbody tr th:only-of-type {\n",
              "        vertical-align: middle;\n",
              "    }\n",
              "\n",
              "    .dataframe tbody tr th {\n",
              "        vertical-align: top;\n",
              "    }\n",
              "\n",
              "    .dataframe thead th {\n",
              "        text-align: right;\n",
              "    }\n",
              "</style>\n",
              "<table border=\"1\" class=\"dataframe\">\n",
              "  <thead>\n",
              "    <tr style=\"text-align: right;\">\n",
              "      <th></th>\n",
              "      <th>title</th>\n",
              "      <th>company</th>\n",
              "      <th>description</th>\n",
              "      <th>link</th>\n",
              "      <th>remote</th>\n",
              "      <th>location</th>\n",
              "      <th>date_posted</th>\n",
              "    </tr>\n",
              "  </thead>\n",
              "  <tbody>\n",
              "    <tr>\n",
              "      <th>258</th>\n",
              "      <td>Data Steward Supervisor - French Speaker</td>\n",
              "      <td>Veeva</td>\n",
              "      <td>Veeva is a mission-driven organization that as...</td>\n",
              "      <td>https://jobs.lever.co/veeva/93ec49c7-518d-4d91...</td>\n",
              "      <td>True</td>\n",
              "      <td>Hungary - Budapest</td>\n",
              "      <td>2023-05-12T10:26:50.847000</td>\n",
              "    </tr>\n",
              "    <tr>\n",
              "      <th>207</th>\n",
              "      <td>Analyst - Computer Software Validation</td>\n",
              "      <td>Veeva</td>\n",
              "      <td>Veeva is a mission-driven organization that as...</td>\n",
              "      <td>https://jobs.lever.co/veeva/75768d72-de7a-41a5...</td>\n",
              "      <td>True</td>\n",
              "      <td>Croatia - Zagreb</td>\n",
              "      <td>2023-05-12T09:15:43.565000</td>\n",
              "    </tr>\n",
              "    <tr>\n",
              "      <th>392</th>\n",
              "      <td>Manufacturing Engineer Co-op Summer/Winter (An...</td>\n",
              "      <td>Anduril Industries</td>\n",
              "      <td>Anduril Industries is a defense technology com...</td>\n",
              "      <td>https://jobs.lever.co/anduril/0fe84ca6-54e3-46...</td>\n",
              "      <td>False</td>\n",
              "      <td>Quincy, MA</td>\n",
              "      <td>2023-05-11T18:54:11.710000</td>\n",
              "    </tr>\n",
              "    <tr>\n",
              "      <th>272</th>\n",
              "      <td>Engagement Manager - Business Consulting - Qua...</td>\n",
              "      <td>Veeva</td>\n",
              "      <td>Veeva is a mission-driven organization that as...</td>\n",
              "      <td>https://jobs.lever.co/veeva/5fd9f8c8-f960-4ae2...</td>\n",
              "      <td>True</td>\n",
              "      <td>Germany - Berlin</td>\n",
              "      <td>2023-05-11T12:12:41.569000</td>\n",
              "    </tr>\n",
              "    <tr>\n",
              "      <th>271</th>\n",
              "      <td>Engagement Manager - Business Consulting - Qua...</td>\n",
              "      <td>Veeva</td>\n",
              "      <td>Veeva is a mission-driven organization that as...</td>\n",
              "      <td>https://jobs.lever.co/veeva/346b460f-2a75-481f...</td>\n",
              "      <td>True</td>\n",
              "      <td>Spain - Barcelona</td>\n",
              "      <td>2023-05-11T12:11:29.055000</td>\n",
              "    </tr>\n",
              "    <tr>\n",
              "      <th>...</th>\n",
              "      <td>...</td>\n",
              "      <td>...</td>\n",
              "      <td>...</td>\n",
              "      <td>...</td>\n",
              "      <td>...</td>\n",
              "      <td>...</td>\n",
              "      <td>...</td>\n",
              "    </tr>\n",
              "    <tr>\n",
              "      <th>388</th>\n",
              "      <td>Frontend Software Engineer</td>\n",
              "      <td>Anduril Industries</td>\n",
              "      <td>Anduril Industries is a defense technology com...</td>\n",
              "      <td>https://jobs.lever.co/anduril/a79b3c52-aaf8-47...</td>\n",
              "      <td>False</td>\n",
              "      <td>Costa Mesa, CA</td>\n",
              "      <td>2018-07-17T18:19:39.522000</td>\n",
              "    </tr>\n",
              "    <tr>\n",
              "      <th>174</th>\n",
              "      <td>Technical Program Manager - Software</td>\n",
              "      <td>Zoox</td>\n",
              "      <td>Zoox has embarked on a highly ambitious journe...</td>\n",
              "      <td>https://jobs.lever.co/zoox/b5b5bb0c-1f95-446e-...</td>\n",
              "      <td>False</td>\n",
              "      <td>Foster City, CA</td>\n",
              "      <td>2016-05-17T13:37:06.372000</td>\n",
              "    </tr>\n",
              "    <tr>\n",
              "      <th>105</th>\n",
              "      <td>Senior/Staff Software Engineer - Machine Learning</td>\n",
              "      <td>Zoox</td>\n",
              "      <td>At Zoox, you will collaborate with a team of w...</td>\n",
              "      <td>https://jobs.lever.co/zoox/81f7fbe7-4fd3-4814-...</td>\n",
              "      <td>False</td>\n",
              "      <td>Foster City, CA</td>\n",
              "      <td>2016-02-11T20:45:48.453000</td>\n",
              "    </tr>\n",
              "    <tr>\n",
              "      <th>135</th>\n",
              "      <td>Software Development Engineer in Test</td>\n",
              "      <td>Zoox</td>\n",
              "      <td>Autonomous vehicles have some of the largest, ...</td>\n",
              "      <td>https://jobs.lever.co/zoox/206cbbe7-f2ef-40f1-...</td>\n",
              "      <td>False</td>\n",
              "      <td>Foster City, CA</td>\n",
              "      <td>2016-02-11T17:06:53.811000</td>\n",
              "    </tr>\n",
              "    <tr>\n",
              "      <th>103</th>\n",
              "      <td>Senior/Staff Software Engineer - Localization ...</td>\n",
              "      <td>Zoox</td>\n",
              "      <td>Zoox is looking for a software engineer to hel...</td>\n",
              "      <td>https://jobs.lever.co/zoox/743cf92d-6646-4c72-...</td>\n",
              "      <td>False</td>\n",
              "      <td>Foster City, CA</td>\n",
              "      <td>2016-02-09T17:58:27.816000</td>\n",
              "    </tr>\n",
              "  </tbody>\n",
              "</table>\n",
              "<p>497 rows × 7 columns</p>\n",
              "</div>"
            ],
            "text/plain": [
              "                                                 title             company  \\\n",
              "258           Data Steward Supervisor - French Speaker               Veeva   \n",
              "207             Analyst - Computer Software Validation               Veeva   \n",
              "392  Manufacturing Engineer Co-op Summer/Winter (An...  Anduril Industries   \n",
              "272  Engagement Manager - Business Consulting - Qua...               Veeva   \n",
              "271  Engagement Manager - Business Consulting - Qua...               Veeva   \n",
              "..                                                 ...                 ...   \n",
              "388                         Frontend Software Engineer  Anduril Industries   \n",
              "174               Technical Program Manager - Software                Zoox   \n",
              "105  Senior/Staff Software Engineer - Machine Learning                Zoox   \n",
              "135              Software Development Engineer in Test                Zoox   \n",
              "103  Senior/Staff Software Engineer - Localization ...                Zoox   \n",
              "\n",
              "                                           description  \\\n",
              "258  Veeva is a mission-driven organization that as...   \n",
              "207  Veeva is a mission-driven organization that as...   \n",
              "392  Anduril Industries is a defense technology com...   \n",
              "272  Veeva is a mission-driven organization that as...   \n",
              "271  Veeva is a mission-driven organization that as...   \n",
              "..                                                 ...   \n",
              "388  Anduril Industries is a defense technology com...   \n",
              "174  Zoox has embarked on a highly ambitious journe...   \n",
              "105  At Zoox, you will collaborate with a team of w...   \n",
              "135  Autonomous vehicles have some of the largest, ...   \n",
              "103  Zoox is looking for a software engineer to hel...   \n",
              "\n",
              "                                                  link  remote  \\\n",
              "258  https://jobs.lever.co/veeva/93ec49c7-518d-4d91...    True   \n",
              "207  https://jobs.lever.co/veeva/75768d72-de7a-41a5...    True   \n",
              "392  https://jobs.lever.co/anduril/0fe84ca6-54e3-46...   False   \n",
              "272  https://jobs.lever.co/veeva/5fd9f8c8-f960-4ae2...    True   \n",
              "271  https://jobs.lever.co/veeva/346b460f-2a75-481f...    True   \n",
              "..                                                 ...     ...   \n",
              "388  https://jobs.lever.co/anduril/a79b3c52-aaf8-47...   False   \n",
              "174  https://jobs.lever.co/zoox/b5b5bb0c-1f95-446e-...   False   \n",
              "105  https://jobs.lever.co/zoox/81f7fbe7-4fd3-4814-...   False   \n",
              "135  https://jobs.lever.co/zoox/206cbbe7-f2ef-40f1-...   False   \n",
              "103  https://jobs.lever.co/zoox/743cf92d-6646-4c72-...   False   \n",
              "\n",
              "               location                 date_posted  \n",
              "258  Hungary - Budapest  2023-05-12T10:26:50.847000  \n",
              "207    Croatia - Zagreb  2023-05-12T09:15:43.565000  \n",
              "392          Quincy, MA  2023-05-11T18:54:11.710000  \n",
              "272    Germany - Berlin  2023-05-11T12:12:41.569000  \n",
              "271   Spain - Barcelona  2023-05-11T12:11:29.055000  \n",
              "..                  ...                         ...  \n",
              "388      Costa Mesa, CA  2018-07-17T18:19:39.522000  \n",
              "174     Foster City, CA  2016-05-17T13:37:06.372000  \n",
              "105     Foster City, CA  2016-02-11T20:45:48.453000  \n",
              "135     Foster City, CA  2016-02-11T17:06:53.811000  \n",
              "103     Foster City, CA  2016-02-09T17:58:27.816000  \n",
              "\n",
              "[497 rows x 7 columns]"
            ]
          },
          "execution_count": 14,
          "metadata": {},
          "output_type": "execute_result"
        }
      ],
      "source": [
        "df.sort_values(by='date_posted', ascending=False)"
      ]
    }
  ],
  "metadata": {
    "colab": {
      "provenance": []
    },
    "kernelspec": {
      "display_name": "Python 3",
      "name": "python3"
    },
    "language_info": {
      "codemirror_mode": {
        "name": "ipython",
        "version": 3
      },
      "file_extension": ".py",
      "mimetype": "text/x-python",
      "name": "python",
      "nbconvert_exporter": "python",
      "pygments_lexer": "ipython3",
      "version": "3.11.2"
    }
  },
  "nbformat": 4,
  "nbformat_minor": 0
}
