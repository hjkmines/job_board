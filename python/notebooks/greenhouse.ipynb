{
  "cells": [
    {
      "cell_type": "markdown",
      "metadata": {
        "id": "gEMdcyowB4sX"
      },
      "source": [
        "# Imports\n"
      ]
    },
    {
      "cell_type": "code",
      "execution_count": 51,
      "metadata": {
        "id": "kf54FCYz0lwt"
      },
      "outputs": [],
      "source": [
        "import pandas as pd\n",
        "import requests\n",
        "import json\n",
        "import html\n",
        "from datetime import date\n",
        "import csv\n",
        "from time import sleep\n",
        "import re"
      ]
    },
    {
      "cell_type": "code",
      "execution_count": 3,
      "metadata": {},
      "outputs": [],
      "source": [
        "filename =\"../greenhouse_companies.csv\"\n",
        " \n",
        "# opening the file using \"with\"\n",
        "# statement\n",
        "\n",
        "with open(filename, 'r') as data:\n",
        "  companies={row[0]:row[1] for row in csv.reader(data)}\n"
      ]
    },
    {
      "cell_type": "code",
      "execution_count": 4,
      "metadata": {},
      "outputs": [],
      "source": [
        "def get_companies(filename: str ='companies.csv') -> dict:\n",
        "    with open(filename, 'r') as data:\n",
        "        companies = {row[0]:row[1] for row in csv.reader(data)}\n",
        "    companies_clean = companies\n",
        "    companies_bad = {}\n",
        "    tokens = set(companies.keys())\n",
        "    for token in tokens:\n",
        "        if not requests.get(f'https://boards-api.greenhouse.io/v1/boards/{token}/jobs'):\n",
        "            print(token)\n",
        "            companies_clean.pop(token)\n",
        "            companies_bad[token] = companies.get(token)\n"
      ]
    },
    {
      "cell_type": "code",
      "execution_count": 5,
      "metadata": {
        "id": "zLBUqL-CZWUc"
      },
      "outputs": [],
      "source": [
        "tokens = set(companies.keys())"
      ]
    },
    {
      "cell_type": "markdown",
      "metadata": {
        "id": "XZkSQbXse2tA"
      },
      "source": [
        "## Check for bad job tokens"
      ]
    },
    {
      "cell_type": "code",
      "execution_count": 6,
      "metadata": {
        "colab": {
          "base_uri": "https://localhost:8080/",
          "height": 35
        },
        "id": "vzguQUdQY2LY",
        "outputId": "e7352c82-91d1-4c03-82ba-9256881c153f"
      },
      "outputs": [
        {
          "data": {
            "text/plain": [
              "\"\\nfor company in tokens:\\n    if not requests.get(f'https://boards-api.greenhouse.io/v1/boards/{company}/jobs'):\\n      print(company)\\n      \\n      \""
            ]
          },
          "execution_count": 6,
          "metadata": {},
          "output_type": "execute_result"
        }
      ],
      "source": [
        "# No output == good\n",
        "# Output == company api not found\n",
        "'''\n",
        "for company in tokens:\n",
        "    if not requests.get(f'https://boards-api.greenhouse.io/v1/boards/{company}/jobs'):\n",
        "      print(company)\n",
        "      \n",
        "      '''"
      ]
    },
    {
      "cell_type": "markdown",
      "metadata": {
        "id": "uahOFfj3pUyQ"
      },
      "source": [
        "## Job criteria\n",
        "Finds job titles that match criteria.    \n",
        "Roles is for job role (engineer, developer, etc), level is for expereince level keywords ('junior', 'associate',etc), exclude is for tersm you don't want ('senior', etc.). Should be lower case."
      ]
    },
    {
      "cell_type": "code",
      "execution_count": 7,
      "metadata": {
        "id": "W5PGuXiFpVBs"
      },
      "outputs": [],
      "source": [
        "roles = {'developer','engineer', 'frontend', 'software', 'apprentice', 'apprenticeship', 'front-end', 'backend', 'back-end', 'jr.', 'jr' }\n",
        "# Includes 'software' for titles that are just 'software enginer', etc.\n",
        "levels = {'junior', 'entry-level', 'grad', 'graduate', 'apprentice', 'apprenticeship', 'software', 'entry', 'intern', 'i', '1', 'associate'}\n",
        "# Optional, but helps exclude higher level postiions\n",
        "exclude = {'senior', 'principal' , 'sr.', 'ii', 'iii' }"
      ]
    },
    {
      "cell_type": "markdown",
      "metadata": {
        "id": "iaAQxWvltWUu"
      },
      "source": [
        "# Main Code\n",
        "Finds jobs and outputs results as csv or excel file"
      ]
    },
    {
      "cell_type": "code",
      "execution_count": 8,
      "metadata": {
        "id": "IDRkJU30Q-U6"
      },
      "outputs": [],
      "source": [
        "# Return a list of elligble jobs from a set of companies\n",
        "def find_jobs(companies : dict, roles : set , levels : set , exclude : set = {}) -> list:\n",
        "  \n",
        "  tokens = set(companies.keys())\n",
        "  results = []\n",
        "\n",
        "  for company in tokens:\n",
        "    res=requests.get(f'https://boards-api.greenhouse.io/v1/boards/{company}/jobs')\n",
        "    if res:\n",
        "      jobs=json.loads(res.text).get('jobs')\n",
        "\n",
        "      if jobs:\n",
        "        for job in jobs:\n",
        "            title=set(job.get('title').lower().split())\n",
        "            if title.intersection(roles) and title.intersection(levels) and not title.intersection(exclude) :\n",
        "              job['token'] = company\n",
        "              job['company'] = companies.get(company)\n",
        "              results.append(job)\n",
        "\n",
        "  return results\n",
        "\n",
        "  "
      ]
    },
    {
      "cell_type": "code",
      "execution_count": 65,
      "metadata": {},
      "outputs": [],
      "source": [
        "def get_location(locations: list[str]) -> list:\n",
        "    output = []\n",
        "    for location in locations:\n",
        "        if re.search('remote|anywhere|everywhere',location.strip().lower()):\n",
        "            continue\n",
        "        res = requests.get(f'https://geocode.maps.co/search?q={location}')\n",
        "        try:\n",
        "            data = res.json()[0]\n",
        "        except:\n",
        "            continue\n",
        "        coordinates = [data.get('lon'),data.get('lat')]\n",
        "        output.append({'name': location, 'point' : {'type' : 'Point', 'coordinates' : coordinates}})\n",
        "        sleep(0.55)\n",
        "    return output\n",
        "    "
      ]
    },
    {
      "cell_type": "code",
      "execution_count": null,
      "metadata": {},
      "outputs": [],
      "source": []
    },
    {
      "cell_type": "code",
      "execution_count": 52,
      "metadata": {},
      "outputs": [
        {
          "name": "stdout",
          "output_type": "stream",
          "text": [
            "{'place_id': 287393305, 'licence': 'Data © OpenStreetMap contributors, ODbL 1.0. https://osm.org/copyright', 'powered_by': 'Map Maker: https://maps.co', 'osm_type': 'relation', 'osm_id': 182706, 'boundingbox': ['39.8086936', '40.1573082', '-83.2101797', '-82.7713119'], 'lat': '39.9622601', 'lon': '-83.0007065', 'display_name': 'Columbus, Franklin County, Ohio, United States', 'class': 'boundary', 'type': 'administrative', 'importance': 0.7294399106820546}\n"
          ]
        }
      ],
      "source": [
        "res = requests.get(\"https://geocode.maps.co/search?q=columbus\")\n",
        "print(res.json()[0])"
      ]
    },
    {
      "cell_type": "code",
      "execution_count": 64,
      "metadata": {},
      "outputs": [
        {
          "name": "stdout",
          "output_type": "stream",
          "text": [
            "<re.Match object; span=(0, 10), match='everywhere'>\n"
          ]
        }
      ],
      "source": [
        "print(re.search('remote|anywhere|everywhere','everywhere canada'))"
      ]
    },
    {
      "cell_type": "code",
      "execution_count": 66,
      "metadata": {
        "id": "iCkm52kiVoUc"
      },
      "outputs": [],
      "source": [
        "# Get job details for eligible jobs and return a dataframe with the job data\n",
        "def get_details(results: list ) -> pd.DataFrame: \n",
        "  data = []\n",
        "  for job in results:\n",
        "    url = f'https://boards-api.greenhouse.io/v1/boards/{job.get(\"token\")}/jobs/{job.get(\"id\")}'\n",
        "    res = requests.get(url)\n",
        "\n",
        "    if res:\n",
        "      job_detail = json.loads(res.text)\n",
        "      job_info = {'title': job_detail.get('title'), 'company' : job.get('company'), 'link': job_detail.get('absolute_url'), \n",
        "                  'description' : html.unescape(job_detail.get('content')), 'date' : job_detail.get('updated_at'), \n",
        "                  'remote' : None, 'greenhouse_id' : job.get('id'), 'greenhouse_api_url' : url }\n",
        "      \n",
        "      if job_detail.get('offices'):\n",
        "        job_info['location'] = [office['location'] for office in job_detail.get('offices')]\n",
        "        \n",
        "        if None in job_info['location']:\n",
        "            job_info['location'] = [office['name'] for office in job_detail.get('offices')]\n",
        "\n",
        "        job_info['geoJSON'] = get_location(job_info['location'])\n",
        "      data.append(job_info)\n",
        "\n",
        "  df = pd.DataFrame()\n",
        "  df = df.from_records(data)\n",
        "\n",
        "  return df"
      ]
    },
    {
      "cell_type": "code",
      "execution_count": 67,
      "metadata": {
        "id": "6nXJ5UgjcGPw"
      },
      "outputs": [],
      "source": [
        "# Driver code\n",
        "\n",
        "results = find_jobs(companies, roles, levels, exclude)\n",
        "\n",
        "data = get_details(results)\n",
        "\n",
        "df = pd.DataFrame()\n",
        "df = df.from_records(data)\n"
      ]
    },
    {
      "cell_type": "code",
      "execution_count": 69,
      "metadata": {},
      "outputs": [
        {
          "data": {
            "text/plain": [
              "[San Francisco, California, United States]                                             34\n",
              "[Mountain View, California, United States]                                             26\n",
              "[Remote]                                                                               18\n",
              "[Remote Canada, Remote US]                                                             10\n",
              "[San Mateo, CA, USA]                                                                    9\n",
              "                                                                                       ..\n",
              "[Los Angeles, California, United States]                                                1\n",
              "[New York, NY, United States]                                                           1\n",
              "[Denver, Colorado, United States, Remote, San Francisco, California, United States]     1\n",
              "[Sydney, New South Wales, Australia]                                                    1\n",
              "[Remote Canada]                                                                         1\n",
              "Name: location, Length: 62, dtype: int64"
            ]
          },
          "execution_count": 69,
          "metadata": {},
          "output_type": "execute_result"
        }
      ],
      "source": [
        "df.location.value_counts()"
      ]
    },
    {
      "cell_type": "code",
      "execution_count": 71,
      "metadata": {},
      "outputs": [
        {
          "data": {
            "text/html": [
              "<div>\n",
              "<style scoped>\n",
              "    .dataframe tbody tr th:only-of-type {\n",
              "        vertical-align: middle;\n",
              "    }\n",
              "\n",
              "    .dataframe tbody tr th {\n",
              "        vertical-align: top;\n",
              "    }\n",
              "\n",
              "    .dataframe thead th {\n",
              "        text-align: right;\n",
              "    }\n",
              "</style>\n",
              "<table border=\"1\" class=\"dataframe\">\n",
              "  <thead>\n",
              "    <tr style=\"text-align: right;\">\n",
              "      <th></th>\n",
              "      <th>location</th>\n",
              "    </tr>\n",
              "  </thead>\n",
              "  <tbody>\n",
              "    <tr>\n",
              "      <th>0</th>\n",
              "      <td>[San Mateo, CA, USA]</td>\n",
              "    </tr>\n",
              "    <tr>\n",
              "      <th>1</th>\n",
              "      <td>[San Mateo, CA, USA]</td>\n",
              "    </tr>\n",
              "    <tr>\n",
              "      <th>2</th>\n",
              "      <td>[San Mateo, CA, USA]</td>\n",
              "    </tr>\n",
              "    <tr>\n",
              "      <th>3</th>\n",
              "      <td>[San Mateo, CA, USA]</td>\n",
              "    </tr>\n",
              "    <tr>\n",
              "      <th>4</th>\n",
              "      <td>[Paris, France]</td>\n",
              "    </tr>\n",
              "    <tr>\n",
              "      <th>...</th>\n",
              "      <td>...</td>\n",
              "    </tr>\n",
              "    <tr>\n",
              "      <th>236</th>\n",
              "      <td>[Remote]</td>\n",
              "    </tr>\n",
              "    <tr>\n",
              "      <th>237</th>\n",
              "      <td>[Remote]</td>\n",
              "    </tr>\n",
              "    <tr>\n",
              "      <th>238</th>\n",
              "      <td>[Remote]</td>\n",
              "    </tr>\n",
              "    <tr>\n",
              "      <th>239</th>\n",
              "      <td>[Remote]</td>\n",
              "    </tr>\n",
              "    <tr>\n",
              "      <th>240</th>\n",
              "      <td>[Remote]</td>\n",
              "    </tr>\n",
              "  </tbody>\n",
              "</table>\n",
              "<p>241 rows × 1 columns</p>\n",
              "</div>"
            ],
            "text/plain": [
              "                 location\n",
              "0    [San Mateo, CA, USA]\n",
              "1    [San Mateo, CA, USA]\n",
              "2    [San Mateo, CA, USA]\n",
              "3    [San Mateo, CA, USA]\n",
              "4         [Paris, France]\n",
              "..                    ...\n",
              "236              [Remote]\n",
              "237              [Remote]\n",
              "238              [Remote]\n",
              "239              [Remote]\n",
              "240              [Remote]\n",
              "\n",
              "[241 rows x 1 columns]"
            ]
          },
          "execution_count": 71,
          "metadata": {},
          "output_type": "execute_result"
        }
      ],
      "source": [
        "df[['location']]"
      ]
    },
    {
      "cell_type": "code",
      "execution_count": null,
      "metadata": {},
      "outputs": [],
      "source": []
    },
    {
      "cell_type": "markdown",
      "metadata": {
        "id": "7rQP5Az3qHeL"
      },
      "source": [
        "## Job links"
      ]
    },
    {
      "cell_type": "code",
      "execution_count": null,
      "metadata": {
        "colab": {
          "base_uri": "https://localhost:8080/",
          "height": 35
        },
        "id": "qmHAxarJrZmr",
        "outputId": "f1b391e0-1b99-420c-ac54-4ff70bb3c359"
      },
      "outputs": [
        {
          "data": {
            "application/vnd.google.colaboratory.intrinsic+json": {
              "type": "string"
            },
            "text/plain": [
              "'Found 226 jobs!'"
            ]
          },
          "execution_count": 9,
          "metadata": {},
          "output_type": "execute_result"
        }
      ],
      "source": [
        "f'Found {len(df.link)} jobs!'"
      ]
    },
    {
      "cell_type": "code",
      "execution_count": null,
      "metadata": {
        "colab": {
          "base_uri": "https://localhost:8080/"
        },
        "id": "WgKnX4MueTXF",
        "outputId": "5913f6e9-79c0-49ba-e756-37c87fd6ae55"
      },
      "outputs": [
        {
          "data": {
            "text/plain": [
              "0      https://www.tempus.com/careers/job/?gh_jid=656...\n",
              "1      https://www.tempus.com/careers/job/?gh_jid=436...\n",
              "2      https://www.tempus.com/careers/job/?gh_jid=656...\n",
              "3      https://www.tempus.com/careers/job/?gh_jid=666...\n",
              "4      https://www.tempus.com/careers/job/?gh_jid=666...\n",
              "                             ...                        \n",
              "221    https://boards.greenhouse.io/liveperson/jobs/4...\n",
              "222    https://boards.greenhouse.io/imprint/jobs/4722...\n",
              "223             https://ample.com/jobs?gh_jid=4000768005\n",
              "224             https://ample.com/jobs?gh_jid=4224193005\n",
              "225             https://ample.com/jobs?gh_jid=4169834005\n",
              "Name: link, Length: 226, dtype: object"
            ]
          },
          "execution_count": 10,
          "metadata": {},
          "output_type": "execute_result"
        }
      ],
      "source": [
        "# Job links\n",
        "df.link"
      ]
    }
  ],
  "metadata": {
    "colab": {
      "provenance": []
    },
    "kernelspec": {
      "display_name": "Python 3",
      "name": "python3"
    },
    "language_info": {
      "codemirror_mode": {
        "name": "ipython",
        "version": 3
      },
      "file_extension": ".py",
      "mimetype": "text/x-python",
      "name": "python",
      "nbconvert_exporter": "python",
      "pygments_lexer": "ipython3",
      "version": "3.11.2"
    }
  },
  "nbformat": 4,
  "nbformat_minor": 0
}
