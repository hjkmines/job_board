{
  "cells": [
    {
      "cell_type": "markdown",
      "metadata": {
        "id": "gEMdcyowB4sX"
      },
      "source": [
        "# Imports\n"
      ]
    },
    {
      "cell_type": "code",
      "execution_count": 2,
      "metadata": {
        "id": "kf54FCYz0lwt"
      },
      "outputs": [],
      "source": [
        "import pandas as pd\n",
        "import requests\n",
        "import json\n",
        "import html\n",
        "from datetime import date\n",
        "import csv"
      ]
    },
    {
      "cell_type": "code",
      "execution_count": 6,
      "metadata": {},
      "outputs": [],
      "source": [
        "filename =\"../greenhouse_companies.csv\"\n",
        " \n",
        "# opening the file using \"with\"\n",
        "# statement\n",
        "\n",
        "with open(filename, 'r') as data:\n",
        "  companies={row[0]:row[1] for row in csv.reader(data)}\n"
      ]
    },
    {
      "cell_type": "code",
      "execution_count": 7,
      "metadata": {},
      "outputs": [],
      "source": [
        "def get_companies(filename: str ='companies.csv') -> dict:\n",
        "    with open(filename, 'r') as data:\n",
        "        companies = {row[0]:row[1] for row in csv.reader(data)}\n",
        "    companies_clean = companies\n",
        "    companies_bad = {}\n",
        "    tokens = set(companies.keys())\n",
        "    for token in tokens:\n",
        "        if not requests.get(f'https://boards-api.greenhouse.io/v1/boards/{token}/jobs'):\n",
        "            print(token)\n",
        "            companies_clean.pop(token)\n",
        "            companies_bad[token] = companies.get(token)\n"
      ]
    },
    {
      "cell_type": "code",
      "execution_count": 8,
      "metadata": {
        "id": "zLBUqL-CZWUc"
      },
      "outputs": [],
      "source": [
        "tokens = set(companies.keys())"
      ]
    },
    {
      "cell_type": "markdown",
      "metadata": {
        "id": "XZkSQbXse2tA"
      },
      "source": [
        "## Check for bad job tokens"
      ]
    },
    {
      "cell_type": "code",
      "execution_count": 9,
      "metadata": {
        "colab": {
          "base_uri": "https://localhost:8080/",
          "height": 35
        },
        "id": "vzguQUdQY2LY",
        "outputId": "e7352c82-91d1-4c03-82ba-9256881c153f"
      },
      "outputs": [
        {
          "data": {
            "text/plain": [
              "\"\\nfor company in tokens:\\n    if not requests.get(f'https://boards-api.greenhouse.io/v1/boards/{company}/jobs'):\\n      print(company)\\n      \\n      \""
            ]
          },
          "execution_count": 9,
          "metadata": {},
          "output_type": "execute_result"
        }
      ],
      "source": [
        "# No output == good\n",
        "# Output == company api not found\n",
        "'''\n",
        "for company in tokens:\n",
        "    if not requests.get(f'https://boards-api.greenhouse.io/v1/boards/{company}/jobs'):\n",
        "      print(company)\n",
        "      \n",
        "      '''"
      ]
    },
    {
      "cell_type": "markdown",
      "metadata": {
        "id": "uahOFfj3pUyQ"
      },
      "source": [
        "## Job criteria\n",
        "Finds job titles that match criteria.    \n",
        "Roles is for job role (engineer, developer, etc), level is for expereince level keywords ('junior', 'associate',etc), exclude is for tersm you don't want ('senior', etc.). Should be lower case."
      ]
    },
    {
      "cell_type": "code",
      "execution_count": 10,
      "metadata": {
        "id": "W5PGuXiFpVBs"
      },
      "outputs": [],
      "source": [
        "roles = {'developer','engineer', 'frontend', 'software', 'apprentice', 'apprenticeship', 'front-end', 'backend', 'back-end', 'jr.', 'jr' }\n",
        "# Includes 'software' for titles that are just 'software enginer', etc.\n",
        "levels = {'junior', 'entry-level', 'grad', 'graduate', 'apprentice', 'apprenticeship', 'software', 'entry', 'intern', 'i', '1', 'associate'}\n",
        "# Optional, but helps exclude higher level postiions\n",
        "exclude = {'senior', 'principal' , 'sr.', 'ii', 'iii' }"
      ]
    },
    {
      "cell_type": "markdown",
      "metadata": {
        "id": "iaAQxWvltWUu"
      },
      "source": [
        "# Main Code\n",
        "Finds jobs and outputs results as csv or excel file"
      ]
    },
    {
      "cell_type": "code",
      "execution_count": 11,
      "metadata": {
        "id": "IDRkJU30Q-U6"
      },
      "outputs": [],
      "source": [
        "# Return a list of elligble jobs from a set of companies\n",
        "def find_jobs(companies : dict, roles : set , levels : set , exclude : set = {}) -> list:\n",
        "  \n",
        "  tokens = set(companies.keys())\n",
        "  results = []\n",
        "\n",
        "  for company in tokens:\n",
        "    res=requests.get(f'https://boards-api.greenhouse.io/v1/boards/{company}/jobs')\n",
        "    if res:\n",
        "      jobs=json.loads(res.text).get('jobs')\n",
        "\n",
        "      if jobs:\n",
        "        for job in jobs:\n",
        "            title=set(job.get('title').lower().split())\n",
        "            if title.intersection(roles) and title.intersection(levels) and not title.intersection(exclude) :\n",
        "              job['token'] = company\n",
        "              job['company'] = companies.get(company)\n",
        "              results.append(job)\n",
        "\n",
        "  return results\n",
        "\n",
        "  "
      ]
    },
    {
      "cell_type": "code",
      "execution_count": 39,
      "metadata": {
        "id": "iCkm52kiVoUc"
      },
      "outputs": [],
      "source": [
        "# Get job details for eligible jobs and return a dataframe with the job data\n",
        "def get_details(results: list ) -> pd.DataFrame: \n",
        "  data = []\n",
        "  for job in results:\n",
        "    url = f'https://boards-api.greenhouse.io/v1/boards/{job.get(\"token\")}/jobs/{job.get(\"id\")}'\n",
        "    res = requests.get(url)\n",
        "\n",
        "    if res:\n",
        "      job_detail = json.loads(res.text)\n",
        "      job_info = {'title': job_detail.get('title'), 'company' : job.get('company'), 'link': job_detail.get('absolute_url'), \n",
        "                  'description' : html.unescape(job_detail.get('content')), 'date' : job_detail.get('updated_at'), \n",
        "                  'remote' : None, 'greenhouse_id' : job.get('id'), 'greenhouse_api_url' : url }\n",
        "      \n",
        "      if job_detail.get('offices'):\n",
        "        job_info['location'] = [office['location'] for office in job_detail.get('offices')]\n",
        "        \n",
        "        if None in job_info['location']:\n",
        "          job_info['location'] = [office['name'] for office in job_detail.get('offices')]\n",
        "\n",
        "      data.append(job_info)\n",
        "\n",
        "  df = pd.DataFrame()\n",
        "  df = df.from_records(data)\n",
        "\n",
        "  return df"
      ]
    },
    {
      "cell_type": "code",
      "execution_count": null,
      "metadata": {},
      "outputs": [],
      "source": []
    },
    {
      "cell_type": "code",
      "execution_count": 40,
      "metadata": {
        "id": "6nXJ5UgjcGPw"
      },
      "outputs": [],
      "source": [
        "# Driver code\n",
        "\n",
        "results = find_jobs(companies, roles, levels, exclude)\n",
        "\n",
        "data = get_details(results)\n",
        "\n",
        "df = pd.DataFrame()\n",
        "df = df.from_records(data)\n"
      ]
    },
    {
      "cell_type": "code",
      "execution_count": 38,
      "metadata": {},
      "outputs": [
        {
          "data": {
            "text/plain": [
              "[{'id': 4015519002,\n",
              "  'name': 'Bay Area',\n",
              "  'location': 'Redwood City, California, United States',\n",
              "  'child_ids': [],\n",
              "  'parent_id': None},\n",
              " {'id': 4046229002,\n",
              "  'name': 'Boston',\n",
              "  'location': 'Boston, Massachusetts, United States',\n",
              "  'child_ids': [],\n",
              "  'parent_id': None},\n",
              " {'id': 4015352002,\n",
              "  'name': 'Chicago',\n",
              "  'location': 'Chicago, Illinois, United States',\n",
              "  'child_ids': [],\n",
              "  'parent_id': None},\n",
              " {'id': 4015518002,\n",
              "  'name': 'New York',\n",
              "  'location': 'New York, New York, United States',\n",
              "  'child_ids': [],\n",
              "  'parent_id': None}]"
            ]
          },
          "execution_count": 38,
          "metadata": {},
          "output_type": "execute_result"
        }
      ],
      "source": [
        "df"
      ]
    },
    {
      "cell_type": "markdown",
      "metadata": {
        "id": "7rQP5Az3qHeL"
      },
      "source": [
        "## Job links"
      ]
    },
    {
      "cell_type": "code",
      "execution_count": null,
      "metadata": {
        "colab": {
          "base_uri": "https://localhost:8080/",
          "height": 35
        },
        "id": "qmHAxarJrZmr",
        "outputId": "f1b391e0-1b99-420c-ac54-4ff70bb3c359"
      },
      "outputs": [
        {
          "data": {
            "application/vnd.google.colaboratory.intrinsic+json": {
              "type": "string"
            },
            "text/plain": [
              "'Found 226 jobs!'"
            ]
          },
          "execution_count": 9,
          "metadata": {},
          "output_type": "execute_result"
        }
      ],
      "source": [
        "f'Found {len(df.link)} jobs!'"
      ]
    },
    {
      "cell_type": "code",
      "execution_count": null,
      "metadata": {
        "colab": {
          "base_uri": "https://localhost:8080/"
        },
        "id": "WgKnX4MueTXF",
        "outputId": "5913f6e9-79c0-49ba-e756-37c87fd6ae55"
      },
      "outputs": [
        {
          "data": {
            "text/plain": [
              "0      https://www.tempus.com/careers/job/?gh_jid=656...\n",
              "1      https://www.tempus.com/careers/job/?gh_jid=436...\n",
              "2      https://www.tempus.com/careers/job/?gh_jid=656...\n",
              "3      https://www.tempus.com/careers/job/?gh_jid=666...\n",
              "4      https://www.tempus.com/careers/job/?gh_jid=666...\n",
              "                             ...                        \n",
              "221    https://boards.greenhouse.io/liveperson/jobs/4...\n",
              "222    https://boards.greenhouse.io/imprint/jobs/4722...\n",
              "223             https://ample.com/jobs?gh_jid=4000768005\n",
              "224             https://ample.com/jobs?gh_jid=4224193005\n",
              "225             https://ample.com/jobs?gh_jid=4169834005\n",
              "Name: link, Length: 226, dtype: object"
            ]
          },
          "execution_count": 10,
          "metadata": {},
          "output_type": "execute_result"
        }
      ],
      "source": [
        "# Job links\n",
        "df.link"
      ]
    }
  ],
  "metadata": {
    "colab": {
      "provenance": []
    },
    "kernelspec": {
      "display_name": "Python 3",
      "name": "python3"
    },
    "language_info": {
      "codemirror_mode": {
        "name": "ipython",
        "version": 3
      },
      "file_extension": ".py",
      "mimetype": "text/x-python",
      "name": "python",
      "nbconvert_exporter": "python",
      "pygments_lexer": "ipython3",
      "version": "3.11.2"
    }
  },
  "nbformat": 4,
  "nbformat_minor": 0
}
